{
 "cells": [
  {
   "cell_type": "code",
   "execution_count": 1,
   "metadata": {},
   "outputs": [
    {
     "name": "stdout",
     "output_type": "stream",
     "text": [
      "env: CUDA_DEVICE_ORDER=PCI_BUS_ID\n",
      "env: CUDA_VISIBLE_DEVICES=0\n"
     ]
    }
   ],
   "source": [
    "%env CUDA_DEVICE_ORDER=PCI_BUS_ID\n",
    "%env CUDA_VISIBLE_DEVICES=0"
   ]
  },
  {
   "cell_type": "code",
   "execution_count": 2,
   "metadata": {},
   "outputs": [
    {
     "name": "stderr",
     "output_type": "stream",
     "text": [
      "Using TensorFlow backend.\n"
     ]
    }
   ],
   "source": [
    "from sklearn.model_selection import train_test_split\n",
    "from sklearn.preprocessing import RobustScaler\n",
    "import tensorflow as tf\n",
    "import keras\n",
    "import keras.layers as ll\n",
    "import pandas as pd\n",
    "import seaborn as sns\n",
    "import numpy as np\n",
    "import matplotlib.pyplot as plt\n",
    "import os\n",
    "from sklearn.externals import joblib\n",
    "from IPython.display import clear_output\n",
    "%matplotlib inline"
   ]
  },
  {
   "cell_type": "code",
   "execution_count": 3,
   "metadata": {},
   "outputs": [],
   "source": [
    "tf_config = tf.ConfigProto(gpu_options=tf.GPUOptions(allow_growth=True), log_device_placement=True)"
   ]
  },
  {
   "cell_type": "code",
   "execution_count": 4,
   "metadata": {},
   "outputs": [],
   "source": [
    "in_columns = ['S0aux7', 'S0aux6', 'S3aux0', 'S2aux0', 'S5aux0']\n",
    "out_columns = ['0', '1', '2']\n",
    "IN_DIM = len(in_columns)\n",
    "OUT_DIM = len(out_columns)"
   ]
  },
  {
   "cell_type": "code",
   "execution_count": 5,
   "metadata": {},
   "outputs": [],
   "source": [
    "BATCH_SIZE = int(1e4)\n",
    "LATENT_DIMENSIONS = 3\n",
    "TEST_SIZE = 0.3\n",
    "MODEL_NAME = 'GAN_Kramer_dim3_bs1e4_n80-150_old_pide'"
   ]
  },
  {
   "cell_type": "code",
   "execution_count": 6,
   "metadata": {},
   "outputs": [],
   "source": [
    "def split_and_scale(data, scaler=None):\n",
    "    data_train, data_val = train_test_split(data, test_size=TEST_SIZE, random_state=42)\n",
    "    data_val, data_test = train_test_split(data_val, test_size=TEST_SIZE, random_state=1812)\n",
    "    \n",
    "    pid_train = np.array(data_train[\"pid\"])\n",
    "    pid_val = np.array(data_val[\"pid\"])\n",
    "    pid_test = np.array(data_test[\"pid\"])\n",
    "    \n",
    "    data_train.drop(\"pid\", axis=1, inplace=True)\n",
    "    data_val.drop(\"pid\", axis=1, inplace=True)\n",
    "    data_test.drop(\"pid\", axis=1, inplace=True)\n",
    "    \n",
    "    if scaler is None:\n",
    "        scaler = RobustScaler().fit(data_train)\n",
    "        joblib.dump(scaler, os.path.join('preprocessors', MODEL_NAME) + \"_preprocessor.pkl\")\n",
    "        \n",
    "    data_train = pd.DataFrame(scaler.transform(data_train.values),\n",
    "                              columns=data_train.columns)\n",
    "    data_val = pd.DataFrame(scaler.transform(data_val.values),\n",
    "                            columns=data_val.columns)\n",
    "    data_test = pd.DataFrame(scaler.transform(data_test.values),\n",
    "                            columns=data_test.columns)\n",
    "    \n",
    "    data_train[\"pid\"] = pid_train\n",
    "    data_val[\"pid\"] = pid_val\n",
    "    data_test[\"pid\"] = pid_test\n",
    "    \n",
    "    return data_train, data_val, data_test, scaler"
   ]
  },
  {
   "cell_type": "code",
   "execution_count": 7,
   "metadata": {},
   "outputs": [
    {
     "name": "stderr",
     "output_type": "stream",
     "text": [
      "/mnt/tgaintseva/conda/envs/py3/lib/python3.6/site-packages/pandas/core/frame.py:3697: SettingWithCopyWarning: \n",
      "A value is trying to be set on a copy of a slice from a DataFrame\n",
      "\n",
      "See the caveats in the documentation: http://pandas.pydata.org/pandas-docs/stable/indexing.html#indexing-view-versus-copy\n",
      "  errors=errors)\n"
     ]
    }
   ],
   "source": [
    "data_all_pids = pd.read_csv(\"./LHCb_PID_Compression/df_old_encoded_ratio10_3.csv\").drop('Unnamed: 0', axis=1)\n",
    "data_pid = data_all_pids[data_all_pids.pid == 'e']\n",
    "try:\n",
    "    scaler = joblib.load(os.path.join('preprocessors', MODEL_NAME) + \"_preprocessor.pkl\") \n",
    "except:\n",
    "    scaler = None\n",
    "data_train, data_val, data_test, scaler = split_and_scale(data_pid, scaler)\n",
    "data_train.drop(\"pid\", axis=1, inplace=True)\n",
    "data_val.drop(\"pid\", axis=1, inplace=True)"
   ]
  },
  {
   "cell_type": "code",
   "execution_count": 8,
   "metadata": {},
   "outputs": [
    {
     "data": {
      "text/plain": [
       "309233"
      ]
     },
     "execution_count": 8,
     "metadata": {},
     "output_type": "execute_result"
    }
   ],
   "source": [
    "len(data_train)"
   ]
  },
  {
   "cell_type": "markdown",
   "metadata": {},
   "source": [
    "Let's look at the distributions of the features:"
   ]
  },
  {
   "cell_type": "code",
   "execution_count": 9,
   "metadata": {},
   "outputs": [
    {
     "data": {
      "image/png": "[encoded data removed]",
      "text/plain": [
       "<Figure size 360x1080 with 3 Axes>"
      ]
     },
     "metadata": {},
     "output_type": "display_data"
    }
   ],
   "source": [
    "fig, axes = plt.subplots(3, 1, figsize=(5, 15))\n",
    "for INDEX, ax in zip((0, 1, 2), axes):\n",
    "    _, bins, _ = ax.hist(data_train.values[:, INDEX], bins=100, label=\"train\", density=True)\n",
    "    ax.hist(data_val.values[:, INDEX], bins=bins, label=\"val\", alpha=0.5, density=True)\n",
    "    ax.legend()\n",
    "plt.show()"
   ]
  },
  {
   "cell_type": "markdown",
   "metadata": {},
   "source": [
    "## Building GAN"
   ]
  },
  {
   "cell_type": "code",
   "execution_count": 10,
   "metadata": {},
   "outputs": [],
   "source": [
    "data_train = data_train[in_columns+out_columns]\n",
    "data_val = data_val[in_columns+out_columns]\n",
    "\n",
    "data_test = data_test[in_columns+out_columns]"
   ]
  },
  {
   "cell_type": "code",
   "execution_count": 11,
   "metadata": {},
   "outputs": [],
   "source": [
    "def get_tf_dataset(dataset, batch_size):\n",
    "    shuffler = tf.contrib.data.shuffle_and_repeat(dataset.shape[0])\n",
    "    suffled_ds = shuffler(tf.data.Dataset.from_tensor_slices(dataset))\n",
    "    return suffled_ds.batch(batch_size).prefetch(1).make_one_shot_iterator().get_next()"
   ]
  },
  {
   "cell_type": "code",
   "execution_count": 12,
   "metadata": {},
   "outputs": [],
   "source": [
    "tf.reset_default_graph()"
   ]
  },
  {
   "cell_type": "code",
   "execution_count": 13,
   "metadata": {},
   "outputs": [],
   "source": [
    "def get_dense(num_layers):\n",
    "    return [ll.Dense(80, activation='relu') for i in range(num_layers)]\n",
    "\n",
    "CRAMER_DIM = 150\n",
    "\n",
    "critic = keras.models.Sequential(\n",
    "        [ll.InputLayer([OUT_DIM + IN_DIM])] + get_dense(3) +\n",
    "            [ll.Dense(CRAMER_DIM)])\n",
    "generator = keras.models.Sequential(\n",
    "        [ll.InputLayer([LATENT_DIMENSIONS + IN_DIM])] + get_dense(3) +\n",
    "            [ll.Dense(OUT_DIM)])"
   ]
  },
  {
   "cell_type": "code",
   "execution_count": 14,
   "metadata": {},
   "outputs": [],
   "source": [
    "X_train_full = data_train[in_columns+out_columns]\n",
    "X_train_input = data_train[in_columns]\n",
    "\n",
    "X_train_input_tf1 = get_tf_dataset(X_train_input, BATCH_SIZE)\n",
    "X_train_input_tf2 = get_tf_dataset(X_train_input, BATCH_SIZE)\n",
    "X_train_full_tf = get_tf_dataset(X_train_full, BATCH_SIZE)"
   ]
  },
  {
   "cell_type": "code",
   "execution_count": 15,
   "metadata": {},
   "outputs": [],
   "source": [
    "def cramer_critic(x, y):\n",
    "    discriminated_x = critic(x)\n",
    "    return tf.norm(discriminated_x - critic(y), axis=1) - tf.norm(discriminated_x, axis=1)"
   ]
  },
  {
   "cell_type": "code",
   "execution_count": 16,
   "metadata": {},
   "outputs": [],
   "source": [
    "noise_1 = tf.random_normal([tf.shape(X_train_input_tf1)[0], LATENT_DIMENSIONS], name='noise1')\n",
    "noise_2 = tf.random_normal([tf.shape(X_train_input_tf2)[0], LATENT_DIMENSIONS], name='noise2')\n",
    "\n",
    "generated_out_1 = generator(tf.concat([noise_1, tf.cast(X_train_input_tf1, tf.float32)], axis=1))\n",
    "generated_full_1 = tf.concat([tf.cast(X_train_input_tf1, tf.float32), generated_out_1], axis=1)\n",
    "\n",
    "generated_out_2 = generator(tf.concat([noise_2, tf.cast(X_train_input_tf2, tf.float32)], axis=1))\n",
    "generated_full_2 = tf.concat([tf.cast(X_train_input_tf2, tf.float32), generated_out_2], axis=1)"
   ]
  },
  {
   "cell_type": "code",
   "execution_count": 17,
   "metadata": {},
   "outputs": [],
   "source": [
    "generator_loss = tf.reduce_mean(cramer_critic(tf.cast(X_train_full_tf, tf.float32), generated_full_2)\n",
    "                                - cramer_critic(generated_full_1, generated_full_2))"
   ]
  },
  {
   "cell_type": "code",
   "execution_count": 18,
   "metadata": {},
   "outputs": [],
   "source": [
    "with tf.name_scope(\"gradient_loss\"):\n",
    "    alpha = tf.random_uniform(shape=[tf.shape(X_train_full_tf)[0], 1], minval=0., maxval=1.)\n",
    "    interpolates = alpha*tf.cast(X_train_full_tf, tf.float32) + (1.-alpha)*generated_full_1\n",
    "    disc_interpolates = cramer_critic(interpolates, generated_full_2)\n",
    "    gradients = tf.gradients(disc_interpolates, [interpolates])[0]\n",
    "    slopes = tf.norm(tf.reshape(gradients, [tf.shape(gradients)[0], -1]), axis=1)\n",
    "    gradient_penalty = tf.reduce_mean(tf.square(tf.maximum(tf.abs(slopes) - 1, 0)))"
   ]
  },
  {
   "cell_type": "code",
   "execution_count": 19,
   "metadata": {},
   "outputs": [],
   "source": [
    "tf_iter = tf.Variable(initial_value=0, dtype=tf.int32)\n",
    "lambda_tf = 20 / np.pi * 2 * tf.atan(tf.cast(tf_iter, tf.float32)/1e4)\n",
    "critic_loss = lambda_tf*gradient_penalty - generator_loss\n",
    "learning_rate = tf.train.exponential_decay(2e-4, tf_iter, 100, 0.997)\n",
    "optimizer = tf.train.RMSPropOptimizer(learning_rate)\n",
    "critic_train_op = optimizer.minimize(critic_loss, var_list=critic.trainable_weights)\n",
    "generator_train_op = tf.group(\n",
    "    optimizer.minimize(generator_loss, var_list=generator.trainable_weights),\n",
    "    tf.assign_add(tf_iter, 1))"
   ]
  },
  {
   "cell_type": "code",
   "execution_count": 20,
   "metadata": {},
   "outputs": [],
   "source": [
    "tf.summary.scalar(\"critic_loss\", tf.reshape(critic_loss, []))\n",
    "tf.summary.scalar(\"generator_loss\", tf.reshape(generator_loss, []))\n",
    "tf.summary.scalar(\"learning_rate\", learning_rate)\n",
    "tf.summary.scalar(\"lambda\", lambda_tf)\n",
    "merged_summary = tf.summary.merge_all()"
   ]
  },
  {
   "cell_type": "code",
   "execution_count": 21,
   "metadata": {},
   "outputs": [
    {
     "data": {
      "text/plain": [
       "92770"
      ]
     },
     "execution_count": 21,
     "metadata": {},
     "output_type": "execute_result"
    }
   ],
   "source": [
    "len(data_val)"
   ]
  },
  {
   "cell_type": "code",
   "execution_count": 23,
   "metadata": {},
   "outputs": [],
   "source": [
    "N_VAL = int(9e4)\n",
    "validation_np = data_val.sample(N_VAL).values"
   ]
  },
  {
   "cell_type": "code",
   "execution_count": 24,
   "metadata": {},
   "outputs": [
    {
     "data": {
      "text/html": [
       "<div>\n",
       "<style scoped>\n",
       "    .dataframe tbody tr th:only-of-type {\n",
       "        vertical-align: middle;\n",
       "    }\n",
       "\n",
       "    .dataframe tbody tr th {\n",
       "        vertical-align: top;\n",
       "    }\n",
       "\n",
       "    .dataframe thead th {\n",
       "        text-align: right;\n",
       "    }\n",
       "</style>\n",
       "<table border=\"1\" class=\"dataframe\">\n",
       "  <thead>\n",
       "    <tr style=\"text-align: right;\">\n",
       "      <th></th>\n",
       "      <th>S0aux7</th>\n",
       "      <th>S0aux6</th>\n",
       "      <th>S3aux0</th>\n",
       "      <th>S2aux0</th>\n",
       "      <th>S5aux0</th>\n",
       "      <th>0</th>\n",
       "      <th>1</th>\n",
       "      <th>2</th>\n",
       "    </tr>\n",
       "  </thead>\n",
       "  <tbody>\n",
       "    <tr>\n",
       "      <th>54473</th>\n",
       "      <td>2.722450</td>\n",
       "      <td>0.881406</td>\n",
       "      <td>0.0</td>\n",
       "      <td>0.0</td>\n",
       "      <td>-1000.0</td>\n",
       "      <td>-0.839055</td>\n",
       "      <td>0.027441</td>\n",
       "      <td>-0.431929</td>\n",
       "    </tr>\n",
       "    <tr>\n",
       "      <th>67025</th>\n",
       "      <td>0.038825</td>\n",
       "      <td>-0.641532</td>\n",
       "      <td>0.0</td>\n",
       "      <td>0.0</td>\n",
       "      <td>0.0</td>\n",
       "      <td>-2.938729</td>\n",
       "      <td>-0.707218</td>\n",
       "      <td>-2.343605</td>\n",
       "    </tr>\n",
       "    <tr>\n",
       "      <th>77559</th>\n",
       "      <td>-0.431328</td>\n",
       "      <td>-0.709663</td>\n",
       "      <td>0.0</td>\n",
       "      <td>0.0</td>\n",
       "      <td>0.0</td>\n",
       "      <td>0.102357</td>\n",
       "      <td>0.102683</td>\n",
       "      <td>0.601856</td>\n",
       "    </tr>\n",
       "    <tr>\n",
       "      <th>35873</th>\n",
       "      <td>-0.372197</td>\n",
       "      <td>-0.709279</td>\n",
       "      <td>0.0</td>\n",
       "      <td>0.0</td>\n",
       "      <td>0.0</td>\n",
       "      <td>-0.588371</td>\n",
       "      <td>1.053535</td>\n",
       "      <td>3.392688</td>\n",
       "    </tr>\n",
       "    <tr>\n",
       "      <th>75485</th>\n",
       "      <td>2.043491</td>\n",
       "      <td>-0.051085</td>\n",
       "      <td>0.0</td>\n",
       "      <td>0.0</td>\n",
       "      <td>0.0</td>\n",
       "      <td>-0.742868</td>\n",
       "      <td>-0.217332</td>\n",
       "      <td>-0.766559</td>\n",
       "    </tr>\n",
       "  </tbody>\n",
       "</table>\n",
       "</div>"
      ],
      "text/plain": [
       "         S0aux7    S0aux6  S3aux0  S2aux0  S5aux0         0         1  \\\n",
       "54473  2.722450  0.881406     0.0     0.0 -1000.0 -0.839055  0.027441   \n",
       "67025  0.038825 -0.641532     0.0     0.0     0.0 -2.938729 -0.707218   \n",
       "77559 -0.431328 -0.709663     0.0     0.0     0.0  0.102357  0.102683   \n",
       "35873 -0.372197 -0.709279     0.0     0.0     0.0 -0.588371  1.053535   \n",
       "75485  2.043491 -0.051085     0.0     0.0     0.0 -0.742868 -0.217332   \n",
       "\n",
       "              2  \n",
       "54473 -0.431929  \n",
       "67025 -2.343605  \n",
       "77559  0.601856  \n",
       "35873  3.392688  \n",
       "75485 -0.766559  "
      ]
     },
     "execution_count": 24,
     "metadata": {},
     "output_type": "execute_result"
    }
   ],
   "source": [
    "data_val.sample(N_VAL).head()"
   ]
  },
  {
   "cell_type": "code",
   "execution_count": 25,
   "metadata": {},
   "outputs": [],
   "source": [
    "var_init = tf.global_variables_initializer()\n",
    "weights_saver = tf.train.Saver()"
   ]
  },
  {
   "cell_type": "code",
   "execution_count": 26,
   "metadata": {},
   "outputs": [],
   "source": [
    "tf.get_default_graph().finalize()"
   ]
  },
  {
   "cell_type": "markdown",
   "metadata": {},
   "source": [
    "## Training GAN"
   ]
  },
  {
   "cell_type": "code",
   "execution_count": 27,
   "metadata": {},
   "outputs": [],
   "source": [
    "# MODEL_NAME = \"GAN_Kramer_dim3_bs1e4_n64-128_old_v2_pide\"\n",
    "LOGDIR = \"/mnt/tgaintseva/compression/tensorboard_logdir\"\n",
    "CRITIC_ITERATIONS_CONST = 15\n",
    "CRITIC_ITERATIONS_VAR = 0\n",
    "TOTAL_ITERATIONS = int(2e5)\n",
    "VALIDATION_INTERVAL = 100\n",
    "MODEL_WEIGHTS_FILE = \"weights/%s.ckpt\" % MODEL_NAME\n",
    "train_writer = tf.summary.FileWriter(os.path.join(LOGDIR, MODEL_NAME, \"train\"))\n",
    "test_writer = tf.summary.FileWriter(os.path.join(LOGDIR, MODEL_NAME, \"test\"))\n",
    "critic_policy = lambda i: (\n",
    "    CRITIC_ITERATIONS_CONST + (CRITIC_ITERATIONS_VAR * (TOTAL_ITERATIONS - i)) // TOTAL_ITERATIONS)"
   ]
  },
  {
   "cell_type": "code",
   "execution_count": 28,
   "metadata": {},
   "outputs": [
    {
     "name": "stdout",
     "output_type": "stream",
     "text": [
      "_________________________________________________________________\n",
      "Layer (type)                 Output Shape              Param #   \n",
      "=================================================================\n",
      "dense_5 (Dense)              (None, 80)                720       \n",
      "_________________________________________________________________\n",
      "dense_6 (Dense)              (None, 80)                6480      \n",
      "_________________________________________________________________\n",
      "dense_7 (Dense)              (None, 80)                6480      \n",
      "_________________________________________________________________\n",
      "dense_8 (Dense)              (None, 3)                 243       \n",
      "=================================================================\n",
      "Total params: 13,923\n",
      "Trainable params: 13,923\n",
      "Non-trainable params: 0\n",
      "_________________________________________________________________\n"
     ]
    }
   ],
   "source": [
    "generator.summary()"
   ]
  },
  {
   "cell_type": "code",
   "execution_count": null,
   "metadata": {
    "scrolled": false
   },
   "outputs": [
    {
     "data": {
      "image/png": "[encoded data removed]",
      "text/plain": [
       "<Figure size 360x1080 with 3 Axes>"
      ]
     },
     "metadata": {},
     "output_type": "display_data"
    }
   ],
   "source": [
    "with tf.Session(config=tf_config) as sess:\n",
    "    sess.run(var_init)\n",
    "    try:\n",
    "        weights_saver.restore(sess, MODEL_WEIGHTS_FILE)\n",
    "    except tf.errors.NotFoundError:\n",
    "        print(\"Can't restore parameters: no file with weights\")\n",
    "    for i in range(TOTAL_ITERATIONS):\n",
    "        for j in range(critic_policy(i)):\n",
    "            sess.run(critic_train_op)\n",
    "        train_summary, _, interation = sess.run([merged_summary, generator_train_op, tf_iter])\n",
    "        train_writer.add_summary(train_summary, interation)\n",
    "        if i % VALIDATION_INTERVAL == 0:\n",
    "            clear_output(False)\n",
    "            test_summary, test_generated = sess.run([merged_summary, generated_out_1], {\n",
    "                X_train_input_tf1: validation_np[:, :len(in_columns)],\n",
    "                X_train_input_tf2: validation_np[:, :len(in_columns)], X_train_full_tf: validation_np})\n",
    "            try:\n",
    "                fig, axes = plt.subplots(3, 1, figsize=(5, 3*5))\n",
    "                for INDEX, ax in zip((0, 1, 2), axes):\n",
    "                    _, bins, _ = ax.hist(validation_np[:, INDEX+len(in_columns)], bins=100, label=\"data\", density=True)\n",
    "                    ax.hist(test_generated[:, INDEX], bins=bins, label=\"generated\", alpha=0.5, density=True)\n",
    "                    ax.legend()\n",
    "                    ax.set_title(out_columns[INDEX])\n",
    "                plt.show()\n",
    "                fig.savefig('./LHCb_PID_Compression/plots/{}.png'.format(MODEL_NAME))\n",
    "            except:\n",
    "                print(\"ups\")\n",
    "                weights_saver.restore(sess, MODEL_WEIGHTS_FILE)\n",
    "                continue\n",
    "            \n",
    "            test_writer.add_summary(test_summary, interation)\n",
    "            weights_saver.save(sess, MODEL_WEIGHTS_FILE)"
   ]
  },
  {
   "cell_type": "markdown",
   "metadata": {},
   "source": [
    "Look at the result distributions:"
   ]
  },
  {
   "cell_type": "code",
   "execution_count": 36,
   "metadata": {},
   "outputs": [
    {
     "name": "stdout",
     "output_type": "stream",
     "text": [
      "INFO:tensorflow:Restoring parameters from weights/GAN_Kramer_dim3_bs1e4_n80-150_old_pide.ckpt\n"
     ]
    },
    {
     "data": {
      "image/png": "[encoded data removed]",
      "text/plain": [
       "<Figure size 360x1080 with 3 Axes>"
      ]
     },
     "metadata": {},
     "output_type": "display_data"
    }
   ],
   "source": [
    "with tf.Session(config=tf_config) as sess:\n",
    "    sess.run(var_init)\n",
    "    try:\n",
    "        weights_saver.restore(sess, MODEL_WEIGHTS_FILE)\n",
    "    except tf.errors.NotFoundError:\n",
    "        print(\"Can't restore parameters: no file with weights\")\n",
    "    test_summary, test_generated = sess.run([merged_summary, generated_out_1], {\n",
    "        X_train_input_tf1: data_test.values[:, :len(in_columns)],\n",
    "        X_train_input_tf2: data_test.values[:, :len(in_columns)], X_train_full_tf: data_test})\n",
    "    fig, axes = plt.subplots(3, 1, figsize=(5, 15))\n",
    "    for INDEX, ax in zip((0, 1, 2), axes):\n",
    "        _, bins, _ = ax.hist(validation_np[:, INDEX+len(in_columns)], bins=100, label=\"data\", density=True)\n",
    "        ax.hist(test_generated[:, INDEX], bins=bins, label=\"generated\", alpha=0.5, density=True)\n",
    "        ax.legend()\n",
    "        ax.set_title(out_columns[INDEX])\n",
    "    plt.show()"
   ]
  },
  {
   "cell_type": "code",
   "execution_count": 37,
   "metadata": {},
   "outputs": [],
   "source": [
    "test_transformed = scaler.inverse_transform(np.concatenate([test_generated, data_test.values[:, :len(in_columns)]], axis=1))\n",
    "df_temp_enc = pd.DataFrame(test_transformed[:, :len(out_columns)], columns=out_columns)\n",
    "df_temp_full_enc = pd.DataFrame(np.concatenate([df_temp_enc, data_test[['S0aux7', 'S0aux6', 'S3aux0', 'S2aux0', 'S5aux0']]], axis=1), columns=out_columns+['S0aux7', 'S0aux6', 'S3aux0', 'S2aux0', 'S5aux0'])\n",
    "df_temp_full_enc['pid'] = ['e']*len(df_temp_full_enc)\n",
    "df_temp_full_enc.to_csv(\"./saved_dfs/{}.csv\".format(MODEL_NAME), index=None)"
   ]
  }
 ],
 "metadata": {
  "kernelspec": {
   "display_name": "Python 3",
   "language": "python",
   "name": "python3"
  }
 },
 "nbformat": 4,
 "nbformat_minor": 2
}
