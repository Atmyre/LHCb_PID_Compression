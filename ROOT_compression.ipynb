{
 "cells": [
  {
   "cell_type": "code",
   "execution_count": 1,
   "metadata": {},
   "outputs": [
    {
     "name": "stdout",
     "output_type": "stream",
     "text": [
      "Welcome to JupyROOT 6.12/04\n"
     ]
    }
   ],
   "source": [
    "import pickle\n",
    "import ROOT\n",
    "from ROOT import TFile, TTree\n",
    "from array import array\n",
    "import os\n",
    "\n",
    "import matplotlib.pyplot as plt\n",
    "%matplotlib inline\n",
    "#plt.rc('text', usetex=True)"
   ]
  },
  {
   "cell_type": "code",
   "execution_count": 2,
   "metadata": {
    "collapsed": true
   },
   "outputs": [],
   "source": [
    "TYPE = \"\"\n",
    "TYPE = \"_10perc\"\n",
    "TYPE = \"_1perc\"\n",
    "\n",
    "#TO GET ACTUAL RESULTS RUN THIS WITH 10% or 100% of the data\n",
    "\n",
    "\n",
    "\n",
    "retain_dict = pickle.load( open( \"retain_dict_{}.p\".format(TYPE), \"rb\" ) )\n",
    "all_input = retain_dict.pop(\"test_input\")\n",
    "all_encoded_dict = retain_dict.pop(\"save_encoded_dict\")\n"
   ]
  },
  {
   "cell_type": "code",
   "execution_count": 3,
   "metadata": {},
   "outputs": [],
   "source": [
    "l_encoding_dim = [1,3,5,8,11,14,18]\n",
    "#l_encoding_dim = [0, 1, 8, 18]\n",
    "l_encoding_dim = [1,3,6,9,12,15,18]\n",
    "\n",
    "d_FS = {}\n",
    "\n",
    "for encoding_dim in l_encoding_dim:\n",
    "    d_FS[encoding_dim] = {}\n",
    "    for HALF in [ True, False]:\n",
    "        if encoding_dim==18:\n",
    "            encoding_dim_name = \"Uncompressed\"\n",
    "            data = all_input\n",
    "\n",
    "        else:\n",
    "            encoding_dim_name = \"Compressed{}\".format(encoding_dim)\n",
    "            data = all_encoded_dict[encoding_dim]\n",
    "        \n",
    "        if HALF: data = data[:(data.shape[0]/2), :]\n",
    "\n",
    "        if HALF: encoding_dim_name += \"_Half\"\n",
    "            \n",
    "        filename = '{}_{}.root'.format(encoding_dim_name, TYPE)\n",
    "        #print data\n",
    "        vars_list_input = range(data.shape[1])\n",
    "\n",
    "\n",
    "        f = TFile(filename , 'recreate' )\n",
    "        t = TTree( 'data', 'tree with info' )\n",
    "\n",
    "        d_dict = {}\n",
    "        for var in vars_list_input:\n",
    "            d_dict[var] = array( 'f', [ 0. ] )\n",
    "            t.Branch( \"\".format(var), d_dict[var], '{}/F'.format(var) )\n",
    "\n",
    "        for i in range(data.shape[0]):\n",
    "            for var_i, var in enumerate(vars_list_input):\n",
    "                d_dict[var] = data[i][var_i]\n",
    "            t.Fill()\n",
    "\n",
    "\n",
    "        d_FS[encoding_dim][HALF] = os.path.getsize(filename)\n",
    "        #maxn = 10\n",
    "        #n = array( 'i', [ 0 ] )\n",
    "        #d = array( 'f', maxn*[ 0. ] )\n",
    "        #t.Branch( 'mynum', n, 'mynum/I' )\n",
    "        #t.Branch( 'myval', d, 'myval[mynum]/F' )\n",
    "        #for i in range(25):\n",
    "        #   n[0] = min(i,maxn)\n",
    "        #   for j in range(n[0]):\n",
    "        #      d[j] = i*0.1+j\n",
    "        #   t.Fill()\n",
    "\n",
    "        f.Write()\n",
    "        f.Close()"
   ]
  },
  {
   "cell_type": "code",
   "execution_count": 4,
   "metadata": {},
   "outputs": [
    {
     "data": {
      "text/plain": [
       "{1: {False: 242, True: 252},\n",
       " 3: {False: 242, True: 252},\n",
       " 6: {False: 242, True: 252},\n",
       " 9: {False: 242, True: 252},\n",
       " 12: {False: 244, True: 254},\n",
       " 15: {False: 244, True: 254},\n",
       " 18: {False: 244, True: 254}}"
      ]
     },
     "execution_count": 4,
     "metadata": {},
     "output_type": "execute_result"
    }
   ],
   "source": [
    "d_FS"
   ]
  },
  {
   "cell_type": "code",
   "execution_count": 5,
   "metadata": {
    "collapsed": true
   },
   "outputs": [],
   "source": [
    "l_FS = []\n",
    "for encoding_dim in l_encoding_dim:\n",
    "    l_FS.append(2*(d_FS[encoding_dim][False]-d_FS[encoding_dim][True])/1000)\n"
   ]
  },
  {
   "cell_type": "code",
   "execution_count": 6,
   "metadata": {},
   "outputs": [
    {
     "data": {
      "image/png": "[encoded data removed]",
      "text/plain": [
       "<matplotlib.figure.Figure at 0x11395a090>"
      ]
     },
     "metadata": {},
     "output_type": "display_data"
    }
   ],
   "source": [
    "plt.plot(l_encoding_dim, l_FS , '.', markersize=12)\n",
    "plt.xlabel(\"Encoding Dimension\")\n",
    "plt.xticks(l_encoding_dim)\n",
    "plt.ylabel('ROOT File Size (kB); Corrected for overhead')\n",
    "plt.plot([0, l_encoding_dim[-1]], [0,l_FS[-1]], color='grey', linestyle='--')\n",
    "#plt.ylabel('ROOT File Size (kB) \\n Corrected for overhead')\n",
    "plt.title(\"ROOT Default Compression on Encoded Features \")\n",
    "plt.savefig(\"ROOT_Default_compression_{}.png\".format(TYPE))"
   ]
  },
  {
   "cell_type": "code",
   "execution_count": 7,
   "metadata": {},
   "outputs": [
    {
     "name": "stdout",
     "output_type": "stream",
     "text": [
      "[18, -1]\n"
     ]
    }
   ],
   "source": [
    "print [l_encoding_dim[-1],l_FS[-1]]"
   ]
  },
  {
   "cell_type": "code",
   "execution_count": null,
   "metadata": {
    "collapsed": true
   },
   "outputs": [],
   "source": []
  }
 ],
 "metadata": {
  "kernelspec": {
   "display_name": "Python 2",
   "language": "python",
   "name": "python2"
  },
  "language_info": {
   "codemirror_mode": {
    "name": "ipython",
    "version": 2
   },
   "file_extension": ".py",
   "mimetype": "text/x-python",
   "name": "python",
   "nbconvert_exporter": "python",
   "pygments_lexer": "ipython2",
   "version": "2.7.14"
  }
 },
 "nbformat": 4,
 "nbformat_minor": 2
}
