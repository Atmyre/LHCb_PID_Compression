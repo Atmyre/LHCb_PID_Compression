{
 "cells": [
  {
   "cell_type": "code",
   "execution_count": 1,
   "metadata": {},
   "outputs": [
    {
     "name": "stderr",
     "output_type": "stream",
     "text": [
      "Using TensorFlow backend.\n"
     ]
    }
   ],
   "source": [
    "from sklearn.model_selection import train_test_split\n",
    "from sklearn.preprocessing import RobustScaler\n",
    "import tensorflow as tf\n",
    "import keras\n",
    "import keras.layers as ll\n",
    "import pandas as pd\n",
    "import seaborn as sns\n",
    "import numpy as np\n",
    "import matplotlib.pyplot as plt\n",
    "import os\n",
    "import pandas as pd\n",
    "from sklearn.preprocessing import LabelEncoder\n",
    "from sklearn.externals import joblib\n",
    "from IPython.display import clear_output\n",
    "%matplotlib inline"
   ]
  },
  {
   "cell_type": "code",
   "execution_count": 2,
   "metadata": {},
   "outputs": [],
   "source": [
    "import tensorflow as tf\n",
    "\n",
    "config = tf.ConfigProto()\n",
    "config.gpu_options.per_process_gpu_memory_fraction = 0.2\n",
    "config.gpu_options.visible_device_list = '1'\n",
    "\n",
    "import keras\n",
    "from keras import optimizers\n",
    "from keras.models import Sequential, Model\n",
    "from keras.layers import Input, Dense, Dropout\n",
    "from keras.callbacks import EarlyStopping, TensorBoard, ModelCheckpoint\n",
    "from keras import backend as K\n",
    "from keras.backend.tensorflow_backend import set_session\n",
    "\n",
    "tf.set_random_seed(1)\n",
    "sess = tf.Session(config=config)\n",
    "set_session(sess)"
   ]
  },
  {
   "cell_type": "code",
   "execution_count": 3,
   "metadata": {},
   "outputs": [],
   "source": [
    "tf_config = tf.ConfigProto(gpu_options=tf.GPUOptions(allow_growth=True), log_device_placement=True)"
   ]
  },
  {
   "cell_type": "code",
   "execution_count": 4,
   "metadata": {},
   "outputs": [],
   "source": [
    "aux_columns = ['S5aux0', 'S3aux0', 'S2aux0', 'S0aux0', 'S0aux1', 'S0aux2',\n",
    "       'S0aux3', 'S2aux1', 'S2aux2', 'S2aux3', 'S0aux4', 'S0aux5',\n",
    "       'S0aux6', 'S0aux7', 'S0aux8']\n",
    "out_columns = ['0', '1', '2']\n",
    "MODEL_NAME = \"XGB_apart_old\""
   ]
  },
  {
   "cell_type": "code",
   "execution_count": 9,
   "metadata": {},
   "outputs": [],
   "source": [
    "vars_list_input = ['S0x0','S0x1','S0x2','S0x3','S0x4','S3x0','S3x1','S2x0','S2x1','S2x2','S2x3','S0x5','S0x6',\n",
    " 'S0x7','S0x8','S0x9','S0x10','S1x0','S1x1','S1x2','S1x3','S1x4','S1x5','S5x0','S4x0','S4x1','S4x2','S3x2','S4x3',\n",
    " 'S4x4','S5x1','S5x2','S5x3','S5x4','S4x5']"
   ]
  },
  {
   "cell_type": "markdown",
   "metadata": {},
   "source": [
    "## XGBoost for PID Classification"
   ]
  },
  {
   "cell_type": "markdown",
   "metadata": {},
   "source": [
    "### Train data"
   ]
  },
  {
   "cell_type": "code",
   "execution_count": 21,
   "metadata": {},
   "outputs": [],
   "source": [
    "xgb_train_df = pd.read_csv(\"./data/orig_train_old.csv\")\n",
    "xgb_train = {}\n",
    "for pid in range(6):\n",
    "    train_pid = xgb_train_df[xgb_train_df.pid==pid]\n",
    "    xgb_train[pid] = train_pid[vars_list_input].values"
   ]
  },
  {
   "cell_type": "markdown",
   "metadata": {},
   "source": [
    "### Test data"
   ]
  },
  {
   "cell_type": "markdown",
   "metadata": {},
   "source": [
    "#### original data"
   ]
  },
  {
   "cell_type": "code",
   "execution_count": 305,
   "metadata": {},
   "outputs": [],
   "source": [
    "xgb_test_df = pd.read_csv('./data/orig_test_old.csv')\n",
    "xgb_test = {pid: {} for pid in range(6)}\n",
    "for pid in range(6):\n",
    "    test_pid = xgb_test_df[xgb_test_df.pid==pid]\n",
    "    xgb_test[pid]['data'] = test_pid[vars_list_input].values\n",
    "    xgb_test[pid]['S0aux7'] = test_pid[\"S0aux7\"].values\n",
    "    xgb_test[pid]['S0aux8'] = test_pid[\"S0aux8\"].values"
   ]
  },
  {
   "cell_type": "markdown",
   "metadata": {},
   "source": [
    "#### data after AE"
   ]
  },
  {
   "cell_type": "code",
   "execution_count": 285,
   "metadata": {},
   "outputs": [],
   "source": [
    "scalers = {var: {} for var in ['S0aux7', 'S0aux8']}\n",
    "for i, var in enumerate(['S0aux7', 'S0aux8']):\n",
    "    scalers[var]['std'] = joblib.load(os.path.join('preprocessors', \"scaler_std_\"+var) + \".pkl\")\n",
    "    scalers[var]['max'] = joblib.load(os.path.join('preprocessors', \"scaler_max_\"+var) + \".pkl\")"
   ]
  },
  {
   "cell_type": "code",
   "execution_count": 286,
   "metadata": {},
   "outputs": [],
   "source": [
    "ae_test_df = pd.read_csv('./data/ae_test_pid_{}_old.csv'.format(3))\n",
    "ae_test = {pid: {} for pid in range(6)}\n",
    "\n",
    "\n",
    "    \n",
    "for pid in range(6):\n",
    "    test_pid = ae_test_df[ae_test_df.pid==pid]\n",
    "    ae_test[pid]['data'] = test_pid[vars_list_input].values\n",
    "    ae_test[pid]['S0aux7'] = test_pid[\"S0aux7\"].values\n",
    "    ae_test[pid]['S0aux8'] = test_pid[\"S0aux8\"].values\n",
    "    \n",
    "    for i, var in enumerate(['S0aux7', 'S0aux8']):\n",
    "        ae_test[pid][var] = scalers[var]['std'].inverse_transform(\n",
    "            scalers[var]['max'].inverse_transform(ae_test[pid][var].reshape(-1, 1))\n",
    "        ).reshape(-1)"
   ]
  },
  {
   "cell_type": "markdown",
   "metadata": {},
   "source": [
    "#### data after AE+GAN"
   ]
  },
  {
   "cell_type": "code",
   "execution_count": 287,
   "metadata": {},
   "outputs": [],
   "source": [
    "gan_test_df = pd.read_csv('./data/gan_ae_test_dim_{}_old.csv'.format(3))\n",
    "gan_test = {pid: {} for pid in range(6)}\n",
    "for pid in range(6):\n",
    "    test_pid = gan_test_df[gan_test_df.pid==pid]\n",
    "    gan_test[pid]['data'] = test_pid[vars_list_input].values\n",
    "    gan_test[pid]['S0aux7'] = test_pid[\"S0aux7\"].values\n",
    "    gan_test[pid]['S0aux8'] = test_pid[\"S0aux8\"].values\n",
    "    \n",
    "    for i, var in enumerate(['S0aux7', 'S0aux8']):\n",
    "        gan_test[pid][var] = scalers[var]['std'].inverse_transform(\n",
    "            scalers[var]['max'].inverse_transform(gan_test[pid][var].reshape(-1, 1))\n",
    "        ).reshape(-1)"
   ]
  },
  {
   "cell_type": "markdown",
   "metadata": {},
   "source": [
    "-------------"
   ]
  },
  {
   "cell_type": "markdown",
   "metadata": {},
   "source": [
    "Train all the xgboost models"
   ]
  },
  {
   "cell_type": "code",
   "execution_count": 145,
   "metadata": {},
   "outputs": [],
   "source": [
    "for pid1 in range(6):\n",
    "    for pid2 in range(pid1+1, 6):\n",
    "        X = np.concatenate([xgb_train[pid1], xgb_train[pid2]], axis=0)\n",
    "        Y = [0]*len(xgb_train[pid1]) + [1]*len(xgb_train[pid2])\n",
    "        \n",
    "        clf_name = \"XGBoost_old_pids_{}-{}\".format(pid1, pid2)\n",
    "        clf = xgb.XGBClassifier(nthread=-1, seed=111)\n",
    "        clf.fit(X, Y)\n",
    "        joblib.dump(clf, os.path.join('xgboost', clf_name) + \".pkl\")\n",
    "#         clf = joblib.load(os.path.join('xgboost', clf_name) + \".pkl\")"
   ]
  },
  {
   "cell_type": "markdown",
   "metadata": {},
   "source": [
    "### Kaon(f, #5) vs Peon(a, #0)"
   ]
  },
  {
   "cell_type": "code",
   "execution_count": 205,
   "metadata": {},
   "outputs": [],
   "source": [
    "clf_name = \"XGBoost_old_pids_{}-{}\".format(0, 5)\n",
    "clf = xgb.XGBClassifier(nthread=-1, seed=111)\n",
    "clf = joblib.load(os.path.join('xgboost', clf_name) + \".pkl\")"
   ]
  },
  {
   "cell_type": "code",
   "execution_count": 206,
   "metadata": {},
   "outputs": [],
   "source": [
    "def get_sorted_ans(clf, data, pid_pos, pid_neg, aux='S0aux7'):\n",
    "    X = np.concatenate([data[pid_neg]['data'], data[pid_pos]['data']], axis=0)\n",
    "    Y = [0]*len(data[pid_neg]['data']) + [1]*len(xgb_test[pid_pos]['data'])\n",
    "    y_pred = clf.predict_proba(X)[:, 1]\n",
    "    aux = np.concatenate([xgb_test[pid_neg][aux], xgb_test[pid_pos][aux]], axis=0)\n",
    "    sorted_ans = np.array([[x, y, z] for x, (y, z) in zip(y_pred, zip(Y, aux))])\n",
    "    sorted_ans = np.array(sorted(sorted_ans, key=lambda x: x[2]))\n",
    "    return sorted_ans[:, 0], sorted_ans[:, 1], sorted_ans[:, 2]"
   ]
  },
  {
   "cell_type": "code",
   "execution_count": 290,
   "metadata": {},
   "outputs": [],
   "source": [
    "def tpr_fpr(y_true, y_pred):\n",
    "    tp = np.sum(y_true*y_pred)\n",
    "    fn = np.sum((1-y_pred)*y_true)\n",
    "    tn = np.sum((1-y_pred)*(1-y_true))\n",
    "    fp = np.sum((1-y_true)*y_pred)\n",
    "    \n",
    "    return tp/(tp+fn), fp/(fp+tn)\n",
    "\n",
    "def get_plot_data(pred, true, aux, thres=0.5, true_label=1, bins=20):\n",
    "    pred = np.array([0 if x < thres else 1 for x in pred])\n",
    "    true = np.array([1 if x == true_label else 0 for x in true])\n",
    "    \n",
    "    \n",
    "    tprs, fprs = [], []\n",
    "    \n",
    "    step = (np.max(aux) - np.min(aux))/bins\n",
    "    indices = [0]\n",
    "    aux_index = 0\n",
    "    for n_step in range(1, bins+1):\n",
    "        while aux[aux_index] < np.min(aux)+step*n_step:\n",
    "            aux_index += 1\n",
    "        indices.append(aux_index)\n",
    "    \n",
    "    for i in range(1, len(indices)):\n",
    "        tpr, fpr = tpr_fpr(true[indices[i-1]:indices[i]], pred[indices[i-1]:indices[i]])\n",
    "        tprs.append(tpr)\n",
    "        fprs.append(fpr)\n",
    "        \n",
    "    return [(aux[indices[i]] + aux[indices[i-1]])/2 for i in range(1, bins+1)], tprs, fprs\n",
    "\n",
    "def plot(x, ys, legends, aux='S0aux7', title='', alpha=0.5):\n",
    "    plt.figure(figsize=(10, 6))\n",
    "    \n",
    "    for y, label in zip(ys, legends):\n",
    "        plt.scatter(x, y, alpha=alpha, label=label)\n",
    "    \n",
    "    plt.ylim(-0.2, 1.2)\n",
    "    plt.xlabel('{} bins'.format(aux))\n",
    "    plt.ylabel('Efficiency')\n",
    "    plt.legend(loc=\"upper left\")\n",
    "    plt.title(title)"
   ]
  },
  {
   "cell_type": "code",
   "execution_count": 311,
   "metadata": {},
   "outputs": [],
   "source": [
    "def plot_efficiency(data, clf, feature_name, clf_threshold, max_feature_value, title=\"\"):\n",
    "    pred, true, aux = get_sorted_ans(clf, data, 5, 0, aux=feature_name)\n",
    "\n",
    "    last_index = -1\n",
    "    for i in range(len(aux)):\n",
    "        if aux[i] >= max_feature_value:\n",
    "            last_index = i\n",
    "            break\n",
    "    \n",
    "    x, tpr, fpr = get_plot_data(pred[:last_index], true[:last_index], aux[:last_index], thres=0.5)\n",
    "    plot(x, [tpr, fpr], \n",
    "         legends=[\"Kaon identification efficiency\", \"Pion misidentification rate\"], \n",
    "         aux=feature_name, title=title)\n",
    "\n",
    "    plt.show()\n",
    "    \n",
    "def plot_hist(data, feature_name, max_feature_value, bins=20):\n",
    "\n",
    "    indices = []\n",
    "    for i in range(len(data)):\n",
    "        if data[i] < max_feature_value:\n",
    "            indices.append(i)\n",
    "    \n",
    "    plt.figure(figsize=(10, 6))\n",
    "    plt.xlabel('{} value'.format(feature_name))\n",
    "    plt.ylabel('num of {} values per bin'.format(feature_name))\n",
    "    plt.hist(data[indices], bins=bins, histtype='step')\n",
    "    plt.title('{} values histogram'.format(feature_name))\n",
    "    plt.show()"
   ]
  },
  {
   "cell_type": "code",
   "execution_count": 309,
   "metadata": {},
   "outputs": [
    {
     "data": {
      "image/png": "[encoded data removed]",
      "text/plain": [
       "<Figure size 720x432 with 1 Axes>"
      ]
     },
     "metadata": {},
     "output_type": "display_data"
    }
   ],
   "source": [
    "plot_hist(xgb_test[pid]['S0aux7'], 'S0aux7', 46885, bins=20)"
   ]
  },
  {
   "cell_type": "code",
   "execution_count": 312,
   "metadata": {},
   "outputs": [
    {
     "data": {
      "image/png": "[encoded data removed]",
      "text/plain": [
       "<Figure size 720x432 with 1 Axes>"
      ]
     },
     "metadata": {},
     "output_type": "display_data"
    }
   ],
   "source": [
    "plot_efficiency(xgb_test, clf, 'S0aux7', 0.5, 46885, title=\"xgboost on original data\")"
   ]
  },
  {
   "cell_type": "code",
   "execution_count": 313,
   "metadata": {},
   "outputs": [
    {
     "data": {
      "image/png": "[encoded data removed]",
      "text/plain": [
       "<Figure size 720x432 with 1 Axes>"
      ]
     },
     "metadata": {},
     "output_type": "display_data"
    }
   ],
   "source": [
    "plot_efficiency(ae_test, clf, 'S0aux7', 0.5, 46885, title=\"xgboost on data after AE\")"
   ]
  },
  {
   "cell_type": "code",
   "execution_count": 314,
   "metadata": {},
   "outputs": [
    {
     "data": {
      "image/png": "[encoded data removed]",
      "text/plain": [
       "<Figure size 720x432 with 1 Axes>"
      ]
     },
     "metadata": {},
     "output_type": "display_data"
    }
   ],
   "source": [
    "plot_efficiency(gan_test, clf, 'S0aux7', 0.5, 46885, title=\"xgboost on data after AE+GAN\")"
   ]
  },
  {
   "cell_type": "code",
   "execution_count": null,
   "metadata": {},
   "outputs": [],
   "source": []
  }
 ],
 "metadata": {
  "kernelspec": {
   "display_name": "Python 3",
   "language": "python",
   "name": "python3"
  },
  "language_info": {
   "codemirror_mode": {
    "name": "ipython",
    "version": 3
   },
   "file_extension": ".py",
   "mimetype": "text/x-python",
   "name": "python",
   "nbconvert_exporter": "python",
   "pygments_lexer": "ipython3",
   "version": "3.6.5"
  }
 },
 "nbformat": 4,
 "nbformat_minor": 2
}
