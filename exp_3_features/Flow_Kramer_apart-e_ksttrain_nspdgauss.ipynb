{
 "cells": [
  {
   "cell_type": "code",
   "execution_count": 1,
   "metadata": {},
   "outputs": [
    {
     "data": {
      "text/plain": [
       "'\\nThis is an conditional flow and does now consider the aux features\\nATTEMPT TO USE Flows\\nhttps://github.com/bayesiains/nflows\\n\\nstill need to make use of the auxiliary features like this:\\nhttps://github.com/bayesiains/nflows/blob/master/examples/conditional_moons.ipynb\\n\\nhttps://arxiv.org/abs/1908.05164\\n'"
      ]
     },
     "execution_count": 1,
     "metadata": {},
     "output_type": "execute_result"
    }
   ],
   "source": [
    "\"\"\"\n",
    "This is an conditional flow and does now consider the aux features\n",
    "ATTEMPT TO USE Flows\n",
    "https://github.com/bayesiains/nflows\n",
    "\n",
    "still need to make use of the auxiliary features like this:\n",
    "https://github.com/bayesiains/nflows/blob/master/examples/conditional_moons.ipynb\n",
    "\n",
    "https://arxiv.org/abs/1908.05164\n",
    "\"\"\""
   ]
  },
  {
   "cell_type": "code",
   "execution_count": 2,
   "metadata": {},
   "outputs": [],
   "source": [
    "# uncomment to use specific GPU device\n",
    "# %env CUDA_DEVICE_ORDER=PCI_BUS_ID\n",
    "# %env CUDA_VISIBLE_DEVICES=3"
   ]
  },
  {
   "cell_type": "code",
   "execution_count": 3,
   "metadata": {},
   "outputs": [
    {
     "name": "stderr",
     "output_type": "stream",
     "text": [
      "/usr/local/lib/python3.6/dist-packages/sklearn/externals/joblib/__init__.py:15: DeprecationWarning: sklearn.externals.joblib is deprecated in 0.21 and will be removed in 0.23. Please import this functionality directly from joblib, which can be installed with: pip install joblib. If this warning is raised when loading pickled models, you may need to re-serialize those models with scikit-learn 0.21+.\n",
      "  warnings.warn(msg, category=DeprecationWarning)\n"
     ]
    }
   ],
   "source": [
    "from sklearn.model_selection import train_test_split\n",
    "from sklearn.preprocessing import RobustScaler, MaxAbsScaler, QuantileTransformer\n",
    "\n",
    "#import keras\n",
    "#import keras.layers as ll\n",
    "import pandas as pd\n",
    "import seaborn as sns\n",
    "import numpy as np\n",
    "import matplotlib.pyplot as plt\n",
    "import os\n",
    "from sklearn.externals import joblib\n",
    "from IPython.display import clear_output\n",
    "%matplotlib inline\n",
    "from matplotlib.colors import LogNorm"
   ]
  },
  {
   "cell_type": "code",
   "execution_count": 4,
   "metadata": {},
   "outputs": [],
   "source": [
    "import matplotlib.pyplot as plt\n",
    "import sklearn.datasets as datasets\n",
    "\n",
    "import torch\n",
    "from torch import nn\n",
    "from torch import optim\n",
    "import torch.nn.functional as F\n",
    "\n",
    "from nflows.flows.base import Flow\n",
    "from nflows.distributions.normal import StandardNormal, ConditionalDiagonalNormal\n",
    "from nflows.transforms.base import CompositeTransform\n",
    "from nflows.transforms.autoregressive import MaskedAffineAutoregressiveTransform, MaskedUMNNAutoregressiveTransform\n",
    "from nflows.transforms.permutations import ReversePermutation\n",
    "from nflows.nn.nets import ResidualNet\n",
    "\n",
    "import tqdm\n",
    "from tqdm import trange\n",
    "import time\n",
    "import math"
   ]
  },
  {
   "cell_type": "code",
   "execution_count": 5,
   "metadata": {},
   "outputs": [
    {
     "data": {
      "text/plain": [
       "'cuda:0'"
      ]
     },
     "execution_count": 5,
     "metadata": {},
     "output_type": "execute_result"
    }
   ],
   "source": [
    "dev = \"cuda:0\" if torch.cuda.is_available() else \"cpu\"\n",
    "device = torch.device(dev)\n",
    "dev"
   ]
  },
  {
   "cell_type": "markdown",
   "metadata": {},
   "source": [
    "## 1. Prepare the data"
   ]
  },
  {
   "cell_type": "markdown",
   "metadata": {},
   "source": [
    "read the data from csv file:"
   ]
  },
  {
   "cell_type": "code",
   "execution_count": 6,
   "metadata": {},
   "outputs": [],
   "source": [
    "CSV_PATH = \"./data/data_for_gan_combined_ksttrain.csv\"\n",
    "PID_NAME = \"e\""
   ]
  },
  {
   "cell_type": "code",
   "execution_count": 7,
   "metadata": {},
   "outputs": [],
   "source": [
    "data_all_pids = pd.read_csv(CSV_PATH)"
   ]
  },
  {
   "cell_type": "markdown",
   "metadata": {},
   "source": [
    "split columns in data to categories"
   ]
  },
  {
   "cell_type": "code",
   "execution_count": 8,
   "metadata": {},
   "outputs": [],
   "source": [
    "vars_list = list(data_all_pids)\n",
    "vars_list_input, vars_list_aux, vars_list_MC = [], [], []\n",
    "\n",
    "for v in vars_list:\n",
    "    if v == 'pid': \n",
    "        vars_list_MC.append(v)\n",
    "    elif 'aux' in v: \n",
    "        vars_list_aux.append(v)\n",
    "    else: \n",
    "        vars_list_input.append(v)"
   ]
  },
  {
   "cell_type": "code",
   "execution_count": 9,
   "metadata": {},
   "outputs": [],
   "source": [
    "in_columns = ['S6aux0','S0aux7', 'S0aux6', 'S3aux0', 'S2aux0', 'S5aux0']\n",
    "out_columns = vars_list_input\n",
    "IN_DIM = len(in_columns)\n",
    "OUT_DIM = len(out_columns)\n",
    "MODEL_NAME = \"Flow_Kramer_pid{}_ksttrain_nspdgauss\".format(PID_NAME)\n",
    "MODEL_WEIGHTS_FILE = \"./weights/%s.pt\" % MODEL_NAME"
   ]
  },
  {
   "cell_type": "code",
   "execution_count": 10,
   "metadata": {},
   "outputs": [],
   "source": [
    "BATCH_SIZE = int(1e4)\n",
    "LATENT_DIMENSIONS = 3\n",
    "TEST_SIZE = 0.3"
   ]
  },
  {
   "cell_type": "code",
   "execution_count": 11,
   "metadata": {},
   "outputs": [],
   "source": [
    "def split_and_scale(data, robust_scaler=None, maxabs_scaler=None, gauss_scaler=None):\n",
    "    # split data to train, val & test\n",
    "    data_train, data_val = train_test_split(data, test_size=TEST_SIZE, random_state=42)\n",
    "    data_val, data_test = train_test_split(data_val, test_size=TEST_SIZE, random_state=1812)\n",
    "    \n",
    "    # dropping pid column for applying preprocessing, will return it after\n",
    "    pid_train = np.array(data_train[\"pid\"])\n",
    "    pid_val = np.array(data_val[\"pid\"])\n",
    "    pid_test = np.array(data_test[\"pid\"])\n",
    "    \n",
    "    data_train.drop(\"pid\", axis=1, inplace=True)\n",
    "    data_val.drop(\"pid\", axis=1, inplace=True)\n",
    "    data_test.drop(\"pid\", axis=1, inplace=True)\n",
    "    \n",
    "    # path to save preprocessor models to\n",
    "    if not os.path.exists('gan_preprocessors'):\n",
    "        os.makedrs('gan_preprocessors')\n",
    "    \n",
    "    \"\"\"\n",
    "    # applying robust scaler\n",
    "    if robust_scaler is None:\n",
    "        robust_scaler = RobustScaler().fit(data_train)\n",
    "        # save preprocessor model\n",
    "        joblib.dump(robust_scaler, os.path.join('gan_preprocessors', MODEL_NAME) + \"_robust_preprocessor.pkl\")\n",
    "        \n",
    "    data_train = pd.DataFrame(robust_scaler.transform(data_train.values),\n",
    "                              columns=data_train.columns)\n",
    "    data_val = pd.DataFrame(robust_scaler.transform(data_val.values),\n",
    "                            columns=data_val.columns)\n",
    "    data_test = pd.DataFrame(robust_scaler.transform(data_test.values),\n",
    "                            columns=data_test.columns)\n",
    "    \"\"\"\n",
    "    \n",
    "    \"\"\"\n",
    "    # applying max abs scaler\n",
    "    if maxabs_scaler is None:\n",
    "        maxabs_scaler = MaxAbsScaler().fit(data_train)\n",
    "        # save preprocessor model\n",
    "        joblib.dump(maxabs_scaler, os.path.join('gan_preprocessors', MODEL_NAME) + \"_maxabs_preprocessor.pkl\")\n",
    "        \n",
    "    data_train = pd.DataFrame(maxabs_scaler.transform(data_train),\n",
    "                              columns=data_train.columns)\n",
    "    data_val = pd.DataFrame(maxabs_scaler.transform(data_val),\n",
    "                            columns=data_val.columns)\n",
    "    data_test = pd.DataFrame(maxabs_scaler.transform(data_test),\n",
    "                            columns=data_test.columns)\n",
    "    \"\"\"\n",
    "    \n",
    "    # applying max abs scaler\n",
    "    if gauss_scaler is None:\n",
    "        gauss_scaler = QuantileTransformer(output_distribution='normal').fit(data_train)\n",
    "        # save preprocessor model\n",
    "        joblib.dump(gauss_scaler, os.path.join('gan_preprocessors', MODEL_NAME) + \"_gauss_preprocessor.pkl\")\n",
    "        \n",
    "    data_train = pd.DataFrame(gauss_scaler.transform(data_train),\n",
    "                              columns=data_train.columns)\n",
    "    data_val = pd.DataFrame(gauss_scaler.transform(data_val),\n",
    "                            columns=data_val.columns)\n",
    "    data_test = pd.DataFrame(gauss_scaler.transform(data_test),\n",
    "                            columns=data_test.columns)\n",
    "    \n",
    "    # get back pid column\n",
    "    data_train[\"pid\"] = pid_train\n",
    "    data_val[\"pid\"] = pid_val\n",
    "    data_test[\"pid\"] = pid_test\n",
    "    \n",
    "    return data_train, data_val, data_test, robust_scaler, max_abs_scaler, gauss_scaler"
   ]
  },
  {
   "cell_type": "code",
   "execution_count": 12,
   "metadata": {},
   "outputs": [
    {
     "name": "stderr",
     "output_type": "stream",
     "text": [
      "/usr/local/lib/python3.6/dist-packages/pandas/core/frame.py:4102: SettingWithCopyWarning: \n",
      "A value is trying to be set on a copy of a slice from a DataFrame\n",
      "\n",
      "See the caveats in the documentation: http://pandas.pydata.org/pandas-docs/stable/user_guide/indexing.html#returning-a-view-versus-a-copy\n",
      "  errors=errors,\n"
     ]
    }
   ],
   "source": [
    "# leave only data corresponding to one PID that we will build GAN for\n",
    "data_pid = data_all_pids[data_all_pids.pid == PID_NAME]\n",
    "try:\n",
    "    robust_scaler = joblib.load(os.path.join('gan_preprocessors', MODEL_NAME) + \"_robust_preprocessor.pkl\") \n",
    "    max_abs_scaler = joblib.load(os.path.join('gan_preprocessors', MODEL_NAME) + \"_maxabs_preprocessor.pkl\")\n",
    "    gauss_scaler = joblib.load(os.path.join('gan_preprocessors', MODEL_NAME) + \"_gauss_preprocessor.pkl\")\n",
    "    \n",
    "except:\n",
    "    robust_scaler, max_abs_scaler = None, None\n",
    "    gauss_scaler = None\n",
    "data_train, data_val, data_test, robust_scaler, max_abs_scaler, gauss_scaler = split_and_scale(data_pid, robust_scaler, max_abs_scaler, gauss_scaler)"
   ]
  },
  {
   "cell_type": "code",
   "execution_count": 13,
   "metadata": {},
   "outputs": [],
   "source": [
    "# don't need this for GAN\n",
    "data_train.drop(\"pid\", axis=1, inplace=True)\n",
    "data_val.drop(\"pid\", axis=1, inplace=True)\n",
    "data_test.drop(\"pid\", axis=1, inplace=True)"
   ]
  },
  {
   "cell_type": "code",
   "execution_count": 14,
   "metadata": {},
   "outputs": [],
   "source": [
    "aux_columns = vars_list_aux"
   ]
  },
  {
   "cell_type": "markdown",
   "metadata": {},
   "source": [
    "Let's look at the distributions of the features:"
   ]
  },
  {
   "cell_type": "code",
   "execution_count": 15,
   "metadata": {},
   "outputs": [],
   "source": [
    "def plot_1D_projctn(x_val, val_generated, label1=\"data\", label2=\"generated\", title=\"\"):\n",
    "    fig, axes = plt.subplots(1, 3, figsize=(3*5, 5))\n",
    "    for INDEX, ax in zip((0, 1, 2), axes):\n",
    "        #_, bins, _ = ax.hist(validation_np[:, INDEX+len(in_columns)], bins=100, label=\"data\", density=True)\n",
    "        _, bins, _ = ax.hist(x_val[:, INDEX], bins=100, label=label1, density=True)\n",
    "        ax.hist(val_generated[:, INDEX], bins=bins, label=label2, alpha=0.5, density=True)\n",
    "        ax.legend()\n",
    "        ax.set_title(out_columns[INDEX]+ title )\n",
    "    plt.show()"
   ]
  },
  {
   "cell_type": "code",
   "execution_count": 16,
   "metadata": {},
   "outputs": [],
   "source": [
    "def plot_2D_projctn(x_val, test_generated=None, PLOTNOZOOM=False, nbins=50):\n",
    "    #x_val = data_val[out_columns].to_numpy()\n",
    "\n",
    "    if test_generated is None:\n",
    "        fig, ax = plt.subplots(nrows=1, ncols=3)\n",
    "        h1 = ax[0].hist2d(x_val[:, 0], x_val[:, 1], bins=nbins, norm=LogNorm())\n",
    "        h2 = ax[1].hist2d(x_val[:, 0], x_val[:, 2], bins=nbins, norm=LogNorm())\n",
    "        h3 = ax[2].hist2d(x_val[:, 1], x_val[:, 2], bins=nbins, norm=LogNorm())\n",
    "        \n",
    "        ax[0].set_xlabel(\"0\"); ax[0].set_ylabel(\"1\")\n",
    "        ax[1].set_xlabel(\"0\"); ax[1].set_ylabel(\"2\")\n",
    "        ax[2].set_xlabel(\"1\"); ax[2].set_ylabel(\"2\")\n",
    "        fig.colorbar(h3[3], ax=ax)\n",
    "\n",
    "        print(\"Ground truth\")\n",
    "        plt.show()\n",
    "\n",
    "\n",
    "    if test_generated is not None: \n",
    "        \"\"\"\n",
    "        x_val = test_generated\n",
    "        fig, ax = plt.subplots(nrows=1, ncols=3)\n",
    "        h1 = ax[0].hist2d(x_val[:, 0], x_val[:, 1], bins=50, norm=LogNorm(), range=bin0 )\n",
    "        h2 = ax[1].hist2d(x_val[:, 0], x_val[:, 2], bins=50, norm=LogNorm(), range=bin1 )\n",
    "        h3 = ax[2].hist2d(x_val[:, 1], x_val[:, 2], bins=50, norm=LogNorm(), range=bin2 )\n",
    "        fig.colorbar(h[3], ax=ax)\n",
    "        \"\"\"\n",
    "        fig, ax = plt.subplots(nrows=1, ncols=7, figsize=(7*2.5, 5))\n",
    "        h4 = ax[4].hist2d(x_val[:, 0], x_val[:, 1], bins=nbins, norm=LogNorm(), density=True)\n",
    "        h5 = ax[5].hist2d(x_val[:, 0], x_val[:, 2], bins=nbins, norm=LogNorm(), density=True)\n",
    "        h6 = ax[6].hist2d(x_val[:, 1], x_val[:, 2], bins=nbins, norm=LogNorm(), density=True)\n",
    "        \n",
    "        ax[4].set_xlabel(\"0\"); ax[4].set_ylabel(\"1\")\n",
    "        ax[5].set_xlabel(\"0\"); ax[5].set_ylabel(\"2\")\n",
    "        ax[6].set_xlabel(\"1\"); ax[5].set_ylabel(\"2\")\n",
    "        \n",
    "        bin0 = np.array([ax[4].get_xlim(), ax[4].get_ylim()])\n",
    "        bin1 = np.array([ax[5].get_xlim(), ax[5].get_ylim()])\n",
    "        bin2 = np.array([ax[6].get_xlim(), ax[6].get_ylim()])\n",
    "        \n",
    "        h1 = ax[0].hist2d(test_generated[:, 0], test_generated[:, 1], bins=nbins, norm=LogNorm(), range=bin0, density=True )\n",
    "        h2 = ax[1].hist2d(test_generated[:, 0], test_generated[:, 2], bins=nbins, norm=LogNorm(), range=bin1, density=True )\n",
    "        h3 = ax[2].hist2d(test_generated[:, 1], test_generated[:, 2], bins=nbins, norm=LogNorm(), range=bin2, density=True )\n",
    "        \n",
    "        ax[0].set_xlabel(\"0\"); ax[0].set_ylabel(\"1\")\n",
    "        ax[1].set_xlabel(\"0\"); ax[1].set_ylabel(\"2\")\n",
    "        ax[2].set_xlabel(\"1\"); ax[2].set_ylabel(\"2\")\n",
    "        \n",
    "        fig.colorbar(h6[3], ax=ax)\n",
    "        \n",
    "\n",
    "        print(\"Generated Vs Truth\")\n",
    "        plt.show()\n",
    "        \n",
    "        if PLOTNOZOOM:\n",
    "            x_val = test_generated\n",
    "            fig, ax = plt.subplots(nrows=1, ncols=3)\n",
    "            h1 = ax[0].hist2d(x_val[:, 0], x_val[:, 1], bins=nbins, norm=LogNorm() )\n",
    "            h2 = ax[1].hist2d(x_val[:, 0], x_val[:, 2], bins=nbins, norm=LogNorm() )\n",
    "            h3 = ax[2].hist2d(x_val[:, 1], x_val[:, 2], bins=nbins, norm=LogNorm() )\n",
    "            \n",
    "            ax[0].set_xlabel(\"0\"); ax[0].set_ylabel(\"1\")\n",
    "            ax[1].set_xlabel(\"0\"); ax[1].set_ylabel(\"2\")\n",
    "            ax[2].set_xlabel(\"1\"); ax[2].set_ylabel(\"2\")\n",
    "            fig.colorbar(h3[3], ax=ax)\n",
    "\n",
    "            print(\"Generated truth No Zoom\")\n",
    "            plt.show()"
   ]
  },
  {
   "cell_type": "code",
   "execution_count": 17,
   "metadata": {},
   "outputs": [
    {
     "data": {
      "image/png": "[encoded data removed]",
      "text/plain": [
       "<Figure size 1080x360 with 3 Axes>"
      ]
     },
     "metadata": {
      "needs_background": "light"
     },
     "output_type": "display_data"
    }
   ],
   "source": [
    "plot_1D_projctn(data_train[vars_list_input].values,data_val[vars_list_input].values, \"train\", \"val\")"
   ]
  },
  {
   "cell_type": "code",
   "execution_count": 18,
   "metadata": {},
   "outputs": [
    {
     "name": "stdout",
     "output_type": "stream",
     "text": [
      "Ground truth\n"
     ]
    },
    {
     "data": {
      "image/png": "[encoded data removed]",
      "text/plain": [
       "<Figure size 432x288 with 4 Axes>"
      ]
     },
     "metadata": {
      "needs_background": "light"
     },
     "output_type": "display_data"
    }
   ],
   "source": [
    "plot_2D_projctn(data_val[out_columns].to_numpy())"
   ]
  },
  {
   "cell_type": "code",
   "execution_count": 19,
   "metadata": {},
   "outputs": [
    {
     "data": {
      "text/plain": [
       "array([[1.        , 0.29004466, 0.02911061],\n",
       "       [0.29004466, 1.        , 0.00898145],\n",
       "       [0.02911061, 0.00898145, 1.        ]])"
      ]
     },
     "execution_count": 19,
     "metadata": {},
     "output_type": "execute_result"
    }
   ],
   "source": [
    "corr = np.corrcoef(data_train[vars_list_input].values.T)\n",
    "corr"
   ]
  },
  {
   "cell_type": "markdown",
   "metadata": {},
   "source": [
    "## 2. Building GAN"
   ]
  },
  {
   "cell_type": "code",
   "execution_count": 20,
   "metadata": {},
   "outputs": [],
   "source": [
    "# rearrange columns to make them be in similar order\n",
    "data_train = data_train[in_columns+out_columns]\n",
    "data_val = data_val[in_columns+out_columns]\n",
    "data_test = data_test[in_columns+out_columns]"
   ]
  },
  {
   "cell_type": "code",
   "execution_count": 21,
   "metadata": {},
   "outputs": [],
   "source": [
    "context_encoder = nn.Sequential(\n",
    "          nn.Linear(len(in_columns), 2*len(in_columns)),\n",
    "          nn.ReLU(),\n",
    "          nn.Linear(2*len(in_columns), 2*len(in_columns)),\n",
    "          nn.ReLU(),\n",
    "          nn.Linear(2*len(in_columns), 2*len(out_columns))\n",
    "        )"
   ]
  },
  {
   "cell_type": "code",
   "execution_count": 22,
   "metadata": {},
   "outputs": [],
   "source": [
    "num_layers = 5\n",
    "#context_encoder=nn.Linear(len(in_columns), 2*len(out_columns))\n",
    "#context_encoder = Net(len(in_columns), 2*len(out_columns))\n",
    "\n",
    "base_dist = ConditionalDiagonalNormal(shape=[len(out_columns)], \n",
    "                                      context_encoder=context_encoder) \n",
    "#the output is the means and std devs in each of the dimensions of out_columns\n",
    "transforms = []\n",
    "for _ in range(num_layers):\n",
    "    transforms.append(ReversePermutation(features=len(out_columns)))\n",
    "    #transforms.append(MaskedAffineAutoregressiveTransform(features=len(out_columns), \n",
    "    #                                                      hidden_features=6, \n",
    "    #                                                      context_features=len(in_columns)))\n",
    "    transforms.append(MaskedUMNNAutoregressiveTransform(features=len(out_columns), \n",
    "                                                          hidden_features=10, \n",
    "                                                          context_features=len(in_columns)))\n",
    "transform = CompositeTransform(transforms)\n",
    "\n",
    "flow = Flow(transform, base_dist).to(device)\n",
    "optimizer = optim.Adam(flow.parameters())"
   ]
  },
  {
   "cell_type": "code",
   "execution_count": 23,
   "metadata": {},
   "outputs": [
    {
     "data": {
      "text/plain": [
       "'\\nTest with \\narr = np.array([range(10)]*2).T\\narr_context = np.array([range(10)]*2).T\\nds = DatasetNumpy(arr, arr_context)\\nds.get_data(15)\\nds.get_epoch()\\n'"
      ]
     },
     "execution_count": 23,
     "metadata": {},
     "output_type": "execute_result"
    }
   ],
   "source": [
    "class DatasetNumpy:\n",
    "    def __init__(self, arr, arr_context=None):\n",
    "        self.arr = arr\n",
    "        self.arr_context = arr_context\n",
    "        self.bool_context = not(arr_context is None)\n",
    "        self.size = arr.shape[0]\n",
    "        if self.bool_context: assert arr_context.shape[0]==arr.shape[0], \"both arrays must be of the same size\"\n",
    "        self.nsampled = 0\n",
    "        self.epoch = 0 \n",
    "        \n",
    "    def get_data(self, batch_size):\n",
    "        if (batch_size+ self.nsampled) >= self.size:\n",
    "            self.epoch +=1\n",
    "            res = self.arr[self.nsampled:, :].copy()\n",
    "            if self.bool_context: \n",
    "                res_context = self.arr_context[self.nsampled:, :].copy()\n",
    "                shuffler = np.random.permutation(self.size)\n",
    "                self.arr = self.arr[shuffler]\n",
    "                self.arr_context = self.arr_context[shuffler]\n",
    "                self.nsampled = 0\n",
    "                return res, res_context\n",
    "            else:\n",
    "                np.random.shuffle(self.arr)\n",
    "                self.nsampled = 0\n",
    "                return res\n",
    "            \n",
    "            \n",
    "        else:\n",
    "            if self.bool_context: \n",
    "                res = self.arr[self.nsampled:(self.nsampled+batch_size), :]\n",
    "                res_context = self.arr_context[self.nsampled:(self.nsampled+batch_size), :]\n",
    "                self.nsampled += batch_size\n",
    "                return res, res_context\n",
    "            else:\n",
    "                res = self.arr[self.nsampled:(self.nsampled+batch_size), :]\n",
    "                self.nsampled += batch_size\n",
    "                return res\n",
    "        \n",
    "    def get_array(self):\n",
    "        return self.arr\n",
    "    \n",
    "    def get_epoch(self):\n",
    "        return self.epoch\n",
    "\n",
    "\"\"\"\n",
    "Test with \n",
    "arr = np.array([range(10)]*2).T\n",
    "arr_context = np.array([range(10)]*2).T\n",
    "ds = DatasetNumpy(arr, arr_context)\n",
    "ds.get_data(15)\n",
    "ds.get_epoch()\n",
    "\"\"\""
   ]
  },
  {
   "cell_type": "code",
   "execution_count": 24,
   "metadata": {},
   "outputs": [
    {
     "name": "stdout",
     "output_type": "stream",
     "text": [
      "3 6\n"
     ]
    }
   ],
   "source": [
    "print(len(out_columns), len(in_columns))"
   ]
  },
  {
   "cell_type": "markdown",
   "metadata": {},
   "source": [
    "## 3. Training Flow"
   ]
  },
  {
   "cell_type": "code",
   "execution_count": null,
   "metadata": {},
   "outputs": [
    {
     "name": "stderr",
     "output_type": "stream",
     "text": [
      "\r",
      "batches:   0%|          | 0/700 [00:00<?, ?it/s]"
     ]
    },
    {
     "name": "stdout",
     "output_type": "stream",
     "text": [
      "Number of data points :  (135373, 3)\n"
     ]
    },
    {
     "name": "stderr",
     "output_type": "stream",
     "text": [
      "batches:  10%|▉         | 69/700 [00:11<01:40,  6.31it/s]"
     ]
    },
    {
     "name": "stdout",
     "output_type": "stream",
     "text": [
      "before sample\n",
      "after sample\n",
      "\n",
      " ________________________________________________________________________________ \n",
      "Epoch 5\t Sum Corrs 2.39e+01 \tLoss 4.08e+00\n",
      "\n",
      "Generated Vs Truth\n"
     ]
    },
    {
     "data": {
      "image/png": "[encoded data removed]",
      "text/plain": [
       "<Figure size 1260x360 with 8 Axes>"
      ]
     },
     "metadata": {
      "needs_background": "light"
     },
     "output_type": "display_data"
    },
    {
     "data": {
      "image/png": "[encoded data removed]",
      "text/plain": [
       "<Figure size 1080x360 with 3 Axes>"
      ]
     },
     "metadata": {
      "needs_background": "light"
     },
     "output_type": "display_data"
    },
    {
     "name": "stderr",
     "output_type": "stream",
     "text": [
      "batches:  20%|█▉        | 139/700 [00:27<01:31,  6.12it/s]"
     ]
    },
    {
     "name": "stdout",
     "output_type": "stream",
     "text": [
      "before sample\n",
      "after sample\n",
      "\n",
      " ________________________________________________________________________________ \n",
      "Epoch 10\t Sum Corrs 5.01e+00 \tLoss 3.86e+00\n",
      "\n",
      "Generated Vs Truth\n"
     ]
    },
    {
     "data": {
      "image/png": "[encoded data removed]",
      "text/plain": [
       "<Figure size 1260x360 with 8 Axes>"
      ]
     },
     "metadata": {
      "needs_background": "light"
     },
     "output_type": "display_data"
    },
    {
     "data": {
      "image/png": "[encoded data removed]",
      "text/plain": [
       "<Figure size 1080x360 with 3 Axes>"
      ]
     },
     "metadata": {
      "needs_background": "light"
     },
     "output_type": "display_data"
    },
    {
     "name": "stderr",
     "output_type": "stream",
     "text": [
      "batches:  24%|██▎       | 166/700 [00:35<01:24,  6.34it/s]"
     ]
    }
   ],
   "source": [
    "train_data_saved = data_train[out_columns].to_numpy()\n",
    "train_data_saved_context = data_train[in_columns].to_numpy()\n",
    "#np.save(\"train_data_saved.npy\",train_data_saved)\n",
    "\n",
    "ds = DatasetNumpy(train_data_saved[:,:], train_data_saved_context[:,:])\n",
    "print(\"Number of data points : \", train_data_saved[:,:].shape)\n",
    "\n",
    "\n",
    "nepochs = 50\n",
    "#nsamplesperepoch = 10000 # There are 130k training examples\n",
    "nsamplesperepoch = train_data_saved.shape[0]\n",
    "nperbatch = 10000\n",
    "nepochtoplot = 5 #number of batches until we sample from the flow and plot the results\n",
    "nvals = int(1000) #number of data points to sample from flow\n",
    "\n",
    "nbatchperepoch = math.ceil(nsamplesperepoch*1./nperbatch)\n",
    "niters = int(nepochs*nbatchperepoch)\n",
    "nbatchtoplot = int(nepochtoplot*nbatchperepoch)\n",
    "\n",
    "\n",
    "x_val = data_val[out_columns].to_numpy()\n",
    "x_val_context = data_val[in_columns].to_numpy()\n",
    "context_val = torch.tensor(x_val_context[:nvals, :], dtype=torch.float32).to(device)\n",
    "\n",
    "\n",
    "for i in trange(niters, desc='batches'): \n",
    "    #x, y = make_examples(500) #datasets.make_moons(500, noise=.1)\n",
    "    #x = train_data_saved[:,1:]\n",
    "    x, y = ds.get_data(nperbatch)\n",
    "    x = torch.tensor(x, dtype=torch.float32).to(device)\n",
    "    y = torch.tensor(y, dtype=torch.float32).to(device)\n",
    "    \n",
    "    optimizer.zero_grad()\n",
    "    loss = -flow.log_prob(inputs=x, context=y).mean()\n",
    "    loss.backward()\n",
    "    optimizer.step()\n",
    "    \n",
    "    if (i + 1) % nbatchtoplot == 0:\n",
    "        \n",
    "        print(\"before sample\")\n",
    "        #make sure you sample only once for each context example\n",
    "        val_generated = flow.sample(1, context=context_val).cpu().numpy().reshape((nvals,-1))\n",
    "        print(\"after sample\")\n",
    "        \n",
    "        corr_FLOW_val = np.corrcoef(val_generated.T)\n",
    "        corr_diff_val =abs((corr - corr_FLOW_val)/corr)\n",
    "        sum_corr_diff_val = sum(sum(corr_diff_val))\n",
    "        print(\"\\n\",\"_\"*80,\"\\nEpoch {}\\t Sum Corrs {:.2e}\".format(ds.get_epoch(), sum_corr_diff_val), \"\\tLoss {:.2e}\\n\".format(loss))\n",
    "        \n",
    "        plot_2D_projctn(x_val,val_generated, nbins=15)\n",
    "        plot_1D_projctn(x_val,val_generated, \"data\", \"generated\", \" epoch {}\".format(ds.get_epoch()))\n",
    "        \n",
    "        \n",
    "        #if not os.path.exists('plots'):\n",
    "        #    os.makedirs('plots')\n",
    "        #fig.savefig('./plots/{}.png'.format(MODEL_NAME))"
   ]
  },
  {
   "cell_type": "code",
   "execution_count": null,
   "metadata": {},
   "outputs": [],
   "source": [
    "print(\"Number of iterations trained {}\".format(i))"
   ]
  },
  {
   "cell_type": "code",
   "execution_count": null,
   "metadata": {},
   "outputs": [],
   "source": [
    "torch.save(flow, MODEL_WEIGHTS_FILE)"
   ]
  },
  {
   "cell_type": "code",
   "execution_count": null,
   "metadata": {},
   "outputs": [],
   "source": [
    "flowbest = torch.load(MODEL_WEIGHTS_FILE)\n",
    "flowbest.eval()"
   ]
  },
  {
   "cell_type": "markdown",
   "metadata": {},
   "source": [
    "After training, let's check distribution generated by GAN for test examples:"
   ]
  },
  {
   "cell_type": "code",
   "execution_count": null,
   "metadata": {},
   "outputs": [],
   "source": [
    "x_test = data_test[out_columns].to_numpy()\n",
    "x_test_context = data_test[in_columns].to_numpy() \n",
    "context_test = torch.tensor(x_test_context, dtype=torch.float32).to(device)\n",
    "\n",
    "print(\"before sample\")\n",
    "#make sure you sample only once for each context example\n",
    "test_generated = flowbest.sample(1, context=context_test).cpu().numpy().reshape((x_test.shape[0],-1))\n",
    "print(\"after sample\")\n",
    "\n",
    "corr = np.corrcoef(data_train[vars_list_input].values.T)\n",
    "corr_FLOW = np.corrcoef(test_generated.T)\n",
    "corr_diff =abs((corr - corr_FLOW)/corr)\n",
    "sum_corr_diff = sum(sum(corr_diff))\n",
    "\n",
    "print(\"\\n\",\"_\"*80,\"\\n\",\"Sum Corrs {:.2e}\".format(sum_corr_diff), \"\\n\", \"_\"*80)\n",
    "\n",
    "plot_1D_projctn(x_test,test_generated, \"data\", \"generated\", \" epoch {}\".format(ds.get_epoch()))\n",
    "plot_2D_projctn(x_test,test_generated, nbins=40)\n",
    "\n"
   ]
  },
  {
   "cell_type": "markdown",
   "metadata": {},
   "source": [
    "## 4. Save GAN weights and generated test data"
   ]
  },
  {
   "cell_type": "code",
   "execution_count": null,
   "metadata": {},
   "outputs": [],
   "source": [
    "print(MODEL_NAME)\n",
    "try:\n",
    "    #robust_scaler = joblib.load(os.path.join('gan_preprocessors', MODEL_NAME) + \"_robust_preprocessor.pkl\") \n",
    "    #max_abs_scaler = joblib.load(os.path.join('gan_preprocessors', MODEL_NAME) + \"_maxabs_preprocessor.pkl\")\n",
    "    gauss_scaler = joblib.load(os.path.join('gan_preprocessors', MODEL_NAME) + \"_gauss_preprocessor.pkl\")\n",
    "except: print(\"fail\")"
   ]
  },
  {
   "cell_type": "code",
   "execution_count": null,
   "metadata": {},
   "outputs": [],
   "source": [
    "gauss_scaler = joblib.load(os.path.join('gan_preprocessors', MODEL_NAME) + \"_gauss_preprocessor.pkl\")"
   ]
  },
  {
   "cell_type": "markdown",
   "metadata": {},
   "source": [
    "apply inverse transformations of the preprocessors on GAN output on test data:"
   ]
  },
  {
   "cell_type": "code",
   "execution_count": null,
   "metadata": {},
   "outputs": [],
   "source": [
    "#test_transformed = max_abs_scaler.inverse_transform(np.concatenate([data_pid[vars_list_aux][:len(test_generated)].values, test_generated], axis=1))\n",
    "#test_transformed = robust_scaler.inverse_transform(test_transformed)\n",
    "test_transformed = gauss_scaler.inverse_transform(np.concatenate([data_pid[vars_list_aux][:len(test_generated)].values, test_generated], axis=1))\n",
    "# save transformed test to csv\n",
    "df_temp_enc = pd.DataFrame(test_transformed[:, -len(out_columns):], columns=out_columns)\n",
    "df_temp_full_enc = pd.DataFrame(np.concatenate([df_temp_enc, data_test[['S6aux0', 'S0aux7', 'S0aux6', 'S3aux0', 'S2aux0', 'S5aux0']]], axis=1), columns=out_columns+['S6aux0','S0aux7', 'S0aux6', 'S3aux0', 'S2aux0', 'S5aux0'])\n",
    "df_temp_full_enc['pid'] = [PID_NAME]*len(df_temp_full_enc)\n",
    "if not os.path.exists('data'):\n",
    "    os.makedirs('data')\n",
    "df_temp_full_enc.to_csv(\"./data/generated_pid{}.csv\".format(MODEL_NAME), index=None)"
   ]
  },
  {
   "cell_type": "code",
   "execution_count": null,
   "metadata": {},
   "outputs": [],
   "source": []
  },
  {
   "cell_type": "code",
   "execution_count": null,
   "metadata": {},
   "outputs": [],
   "source": []
  },
  {
   "cell_type": "code",
   "execution_count": null,
   "metadata": {},
   "outputs": [],
   "source": []
  }
 ],
 "metadata": {
  "kernelspec": {
   "display_name": "Python 3",
   "language": "python",
   "name": "python3"
  },
  "language_info": {
   "codemirror_mode": {
    "name": "ipython",
    "version": 3
   },
   "file_extension": ".py",
   "mimetype": "text/x-python",
   "name": "python",
   "nbconvert_exporter": "python",
   "pygments_lexer": "ipython3",
   "version": "3.6.9"
  }
 },
 "nbformat": 4,
 "nbformat_minor": 2
}
