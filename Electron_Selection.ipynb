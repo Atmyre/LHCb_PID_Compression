{
 "cells": [
  {
   "cell_type": "code",
   "execution_count": 1,
   "metadata": {},
   "outputs": [
    {
     "name": "stderr",
     "output_type": "stream",
     "text": [
      "/usr/local/lib/python2.7/site-packages/h5py/__init__.py:34: FutureWarning: Conversion of the second argument of issubdtype from `float` to `np.floating` is deprecated. In future, it will be treated as `np.float64 == np.dtype(float).type`.\n",
      "  from ._conv import register_converters as _register_converters\n",
      "Using Theano backend.\n"
     ]
    }
   ],
   "source": [
    "#Importing necessary libraries\n",
    "import numpy as np\n",
    "from keras.layers import Input, Dense, Dropout\n",
    "from keras.models import Model, Sequential\n",
    "from keras.callbacks import EarlyStopping, TensorBoard\n",
    "from keras import optimizers\n",
    "from keras import backend as K\n",
    "import keras\n",
    "\n",
    "#from sklearn.cross_validation import train_test_split\n",
    "from sklearn.model_selection import train_test_split\n",
    "from sklearn import metrics\n",
    "\n",
    "import math\n",
    "import pandas as pd\n",
    "\n",
    "import matplotlib.pyplot as plt\n",
    "%matplotlib inline\n",
    "#%matplotlib notebook\n",
    "\n",
    "import string\n",
    "plt.rc('text', usetex=False)\n",
    "\n",
    "import pickle\n",
    "\n",
    "from Autoencoder_Utils import *"
   ]
  },
  {
   "cell_type": "code",
   "execution_count": 2,
   "metadata": {
    "collapsed": true
   },
   "outputs": [],
   "source": [
    "from sklearn.ensemble import AdaBoostClassifier\n",
    "from sklearn.tree import DecisionTreeClassifier\n",
    "from sklearn.model_selection import cross_validate\n",
    "from sklearn.preprocessing import label_binarize\n",
    "from sklearn.multiclass import OneVsRestClassifier\n",
    "from sklearn.metrics import roc_curve, auc\n",
    "from collections import OrderedDict"
   ]
  },
  {
   "cell_type": "code",
   "execution_count": 3,
   "metadata": {
    "collapsed": true
   },
   "outputs": [],
   "source": [
    "TYPE = \"\"\n",
    "TYPE = \"_10perc\"\n",
    "TYPE = \"_1perc\"\n",
    "\n",
    "\n",
    "ONLY_ONE_PID = True\n",
    "\n",
    "\n",
    "pids = ['a', 'b', 'c', 'd', 'e']\n",
    "pid_to_train = 'c' \n",
    "\n",
    "retain_dict = pickle.load( open( \"retain_dict_{}.p\".format(TYPE), \"rb\" ) )\n",
    "all_input = retain_dict.pop(\"test_input\")\n",
    "all_aux = retain_dict.pop(\"test_aux\")\n",
    "all_MC = retain_dict.pop(\"test_MC\")\n",
    "l_score = retain_dict.pop(\"l_score\")\n",
    "all_decoded_dict = retain_dict.pop(\"save_decoded_dict\")\n",
    "\n",
    "y = label_binarize(all_MC[:,0], classes=pids) # Checking electron ID\n"
   ]
  },
  {
   "cell_type": "code",
   "execution_count": 4,
   "metadata": {},
   "outputs": [
    {
     "name": "stdout",
     "output_type": "stream",
     "text": [
      "Nb train exmaples 1741\n",
      "Nb val exmaples 497\n",
      "Nb test exmaples 248\n"
     ]
    }
   ],
   "source": [
    "# this is the size of our encoded representations\n",
    "pids = ['a', 'b', 'c', 'd', 'e']\n",
    "\n",
    "\n",
    "training_frac = 0.70\n",
    "val_frac      = 0.20\n",
    "n_samples = all_input.shape[0]\n",
    "n_features_input = all_input.shape[1]\n",
    "n_features_aux = all_aux.shape[1]\n",
    "n_features_MC = all_MC.shape[1]\n",
    "\n",
    "\n",
    "n_train = int(n_samples*training_frac)\n",
    "n_val = int(n_samples*val_frac) \n",
    "n_test = int(n_samples*(1-training_frac-val_frac))\n",
    "\n",
    "print (\"Nb train exmaples \" + str(n_train) )\n",
    "print (\"Nb val exmaples \" + str(n_val) )\n",
    "print (\"Nb test exmaples \" + str(n_test) )"
   ]
  },
  {
   "cell_type": "code",
   "execution_count": 5,
   "metadata": {
    "collapsed": true
   },
   "outputs": [],
   "source": [
    "if False:\n",
    "    print all_input\n",
    "    print all_input.shape\n",
    "    l_fit = len(all_input)/10\n",
    "    print l_fit\n",
    "    a = all_input[:l_fit, :]\n",
    "    print a\n",
    "    print a.shape"
   ]
  },
  {
   "cell_type": "code",
   "execution_count": 6,
   "metadata": {},
   "outputs": [
    {
     "name": "stderr",
     "output_type": "stream",
     "text": [
      "/usr/local/lib/python2.7/site-packages/sklearn/model_selection/_split.py:2026: FutureWarning: From version 0.21, test_size will always complement train_size unless both are specified.\n",
      "  FutureWarning)\n"
     ]
    }
   ],
   "source": [
    "train_val_input, test_input, train_val_y, test_y = train_test_split(all_input, y, random_state=42,train_size=training_frac+val_frac)\n",
    "train_input, val_input, train_y, val_y = train_test_split(train_val_input, train_val_y, random_state=42,train_size=training_frac/(training_frac+val_frac))\n",
    "\n",
    "train_decoded_dict, val_decoded_dict, test_decoded_dict = {}, {}, {}\n",
    "\n",
    "for encoding_dim in all_decoded_dict:\n",
    "    all_dec = all_decoded_dict[encoding_dim]\n",
    "    train_val_dec, test_dec =  train_test_split(all_dec, random_state=42,train_size=training_frac+val_frac)\n",
    "    train_dec, val_dec =  train_test_split(train_val_dec, random_state=42,train_size=training_frac/(training_frac+val_frac))\n",
    "    \n",
    "    train_decoded_dict[encoding_dim] = train_dec\n",
    "    val_decoded_dict[encoding_dim] = val_dec\n",
    "    test_decoded_dict[encoding_dim] = test_dec\n",
    "    \n",
    "    \n",
    "    \n"
   ]
  },
  {
   "cell_type": "code",
   "execution_count": 7,
   "metadata": {
    "collapsed": true
   },
   "outputs": [],
   "source": [
    "def TrainBDT(Atrain_input, Atrain_y, Aval_input, Ay_val):\n",
    "    bdt = AdaBoostClassifier(DecisionTreeClassifier(max_depth=1),\n",
    "                             algorithm=\"SAMME\",\n",
    "                             n_estimators=200)\n",
    "    clf = OneVsRestClassifier(bdt)\n",
    "    #bdt.fit(train_MC_input[:,n_features_MC:], train_MC_input[:,:n_features_MC])\n",
    "\n",
    "    if ONLY_ONE_PID:\n",
    "        clf.fit(Atrain_input, Atrain_y[:,pid_to_train])\n",
    "        n_classes = 1\n",
    "    else:\n",
    "        clf.fit(Atrain_input, Atrain_y)\n",
    "        n_classes = len(pids)\n",
    "\n",
    "    y_score = clf.decision_function(Aval_input)\n",
    "\n",
    "    # Compute ROC curve and ROC area for each class\n",
    "    fpr = dict()\n",
    "    tpr = dict()\n",
    "    roc_auc = dict()\n",
    "    for i in range(n_classes):\n",
    "        if ONLY_ONE_PID: fpr[i], tpr[i], _ = roc_curve(Ay_val[:,pid_to_train], y_score)\n",
    "        else: fpr[i], tpr[i], _ = roc_curve(Aval_y[:, i], y_score[:, i])\n",
    "        roc_auc[i] = auc(fpr[i], tpr[i])\n",
    "\n",
    "    if n_classes!=1:\n",
    "        # Compute micro-average ROC curve and ROC area\n",
    "        fpr[\"micro\"], tpr[\"micro\"], _ = roc_curve(Aval_y.ravel(), y_score.ravel())\n",
    "        roc_auc[\"micro\"] = auc(fpr[\"micro\"], tpr[\"micro\"])\n",
    "\n",
    "    return fpr, tpr, roc_auc\n",
    "    #cv_results = cross_validate(bdt, train_input, train_y[:,pid_to_train], return_train_score=False)\n",
    "\n"
   ]
  },
  {
   "cell_type": "code",
   "execution_count": 8,
   "metadata": {
    "collapsed": true
   },
   "outputs": [],
   "source": [
    "def PlotROC(d_fpr, d_tpr, d_roc_auc, i_class = 0, title='Receiver operating characteristic '):\n",
    "    plt.figure()\n",
    "    lw = 2\n",
    "    l_colors= ['darkorange', 'blue', 'red', 'green', 'black', 'yellow']\n",
    "    for ikey, key in enumerate(d_fpr):\n",
    "        plt.plot(d_fpr[key][i_class], d_tpr[key][i_class], color=l_colors[ikey],\n",
    "             lw=lw, label=str(key)+' AUC %0.3f' % d_roc_auc[key][i_class] )\n",
    "    #plt.plot(fpr[i_class], tpr[i_class], color='darkorange',\n",
    "    #         lw=lw, label='ROC curve (area = %0.2f)' % roc_auc[i_class])\n",
    "    plt.plot([0, 1], [0, 1], color='navy', lw=lw, linestyle='--')\n",
    "    plt.xlim([0.0, 1.0])\n",
    "    plt.ylim([0.0, 1.05])\n",
    "    plt.xlabel('False Positive Rate')\n",
    "    plt.ylabel('True Positive Rate')\n",
    "    plt.title(title)\n",
    "    plt.legend(loc=\"lower right\")\n",
    "    plt.savefig(\"ROC_{}.png\".format(TYPE))\n",
    "    plt.show()\n",
    "  \n",
    "def PlotROC1(d_fpr, d_tpr, d_roc_auc, i_class = 0, title='Receiver operating characteristic '):\n",
    "    plt.figure()\n",
    "    lw = 2\n",
    "    l_colors= ['darkorange', 'blue', 'red', 'green', 'black', 'yellow']\n",
    "    for ikey, key in enumerate(d_fpr):\n",
    "        plt.plot(d_tpr[key][i_class], 1-d_fpr[key][i_class], color=l_colors[ikey],\n",
    "             lw=lw, label=str(key)+' AUC %0.3f' % d_roc_auc[key][i_class] )\n",
    "    #plt.plot(fpr[i_class], tpr[i_class], color='darkorange',\n",
    "    #         lw=lw, label='ROC curve (area = %0.2f)' % roc_auc[i_class])\n",
    "    plt.plot([1, 0], [0, 1], color='navy', lw=lw, linestyle='--')\n",
    "    plt.xlim([0.0, 1.0])\n",
    "    plt.ylim([0.0, 1.05])\n",
    "    plt.ylabel('1 - False Positive Rate')\n",
    "    plt.xlabel('True Positive Rate')\n",
    "    plt.title(title)\n",
    "    plt.legend(loc=\"lower left\")\n",
    "    plt.savefig(\"ROC1_{}.png\".format(TYPE))\n",
    "    plt.show()\n",
    "\n",
    "    \n",
    "def PlotROC2(d_fpr, d_tpr, d_roc_auc, i_class = 0, title='Receiver operating characteristic '):\n",
    "    plt.figure()\n",
    "    lw = 2\n",
    "    l_colors= ['darkorange', 'blue', 'red', 'green', 'black', 'yellow']\n",
    "    for ikey, key in enumerate(d_fpr):\n",
    "        plt.plot(d_tpr[key][i_class], 1-d_fpr[key][i_class], color=l_colors[ikey],\n",
    "             lw=lw, label=str(key)+' AUC %0.3f' % d_roc_auc[key][i_class] )\n",
    "    #plt.plot(fpr[i_class], tpr[i_class], color='darkorange',\n",
    "    #         lw=lw, label='ROC curve (area = %0.2f)' % roc_auc[i_class])\n",
    "    plt.plot([1, 0], [0, 1], color='navy', lw=lw, linestyle='--')\n",
    "    plt.xlim([0.9, 1.0])\n",
    "    plt.ylim([0.4, 1.05])\n",
    "    plt.ylabel('1 - False Positive Rate')\n",
    "    plt.xlabel('True Positive Rate')\n",
    "    plt.title(title)\n",
    "    plt.legend(loc=\"lower left\")\n",
    "    plt.savefig(\"ROC2_{}.png\".format(TYPE))\n",
    "    plt.show()\n",
    "    \n",
    "def PlotROC3(d_fpr, d_tpr, d_roc_auc, i_class = 0, title='Receiver operating characteristic '):\n",
    "    plt.figure()\n",
    "    lw = 2\n",
    "    l_colors= ['darkorange', 'blue', 'red', 'green', 'black', 'yellow']\n",
    "    for ikey, key in enumerate(d_fpr):\n",
    "        plt.plot(d_tpr[key][i_class], 1-d_fpr[key][i_class], color=l_colors[ikey],\n",
    "             lw=lw, label=str(key)+' AUC %0.3f' % d_roc_auc[key][i_class] )\n",
    "    #plt.plot(fpr[i_class], tpr[i_class], color='darkorange',\n",
    "    #         lw=lw, label='ROC curve (area = %0.2f)' % roc_auc[i_class])\n",
    "    plt.plot([1, 0], [0, 1], color='navy', lw=lw, linestyle='--')\n",
    "    plt.xlim([0.9, 0.94])\n",
    "    plt.ylim([0.8, 1.05])\n",
    "    plt.ylabel('1 - False Positive Rate')\n",
    "    plt.xlabel('True Positive Rate')\n",
    "    plt.title(title)\n",
    "    plt.legend(loc=\"lower left\")\n",
    "    plt.savefig(\"ROC3_{}.png\".format(TYPE))\n",
    "    plt.show()\n"
   ]
  },
  {
   "cell_type": "code",
   "execution_count": null,
   "metadata": {
    "collapsed": true
   },
   "outputs": [],
   "source": [
    "\n"
   ]
  },
  {
   "cell_type": "code",
   "execution_count": 9,
   "metadata": {},
   "outputs": [
    {
     "ename": "IndexError",
     "evalue": "only integers, slices (`:`), ellipsis (`...`), numpy.newaxis (`None`) and integer or boolean arrays are valid indices",
     "output_type": "error",
     "traceback": [
      "\u001b[0;31m---------------------------------------------------------------------------\u001b[0m",
      "\u001b[0;31mIndexError\u001b[0m                                Traceback (most recent call last)",
      "\u001b[0;32m<ipython-input-9-48bd7b1d9d5d>\u001b[0m in \u001b[0;36m<module>\u001b[0;34m()\u001b[0m\n\u001b[1;32m      3\u001b[0m \u001b[0;34m\u001b[0m\u001b[0m\n\u001b[1;32m      4\u001b[0m \u001b[0md_fpr\u001b[0m\u001b[0;34m,\u001b[0m \u001b[0md_tpr\u001b[0m\u001b[0;34m,\u001b[0m \u001b[0md_roc_auc\u001b[0m \u001b[0;34m=\u001b[0m \u001b[0mOrderedDict\u001b[0m\u001b[0;34m(\u001b[0m\u001b[0;34m)\u001b[0m\u001b[0;34m,\u001b[0m \u001b[0mOrderedDict\u001b[0m\u001b[0;34m(\u001b[0m\u001b[0;34m)\u001b[0m\u001b[0;34m,\u001b[0m \u001b[0mOrderedDict\u001b[0m\u001b[0;34m(\u001b[0m\u001b[0;34m)\u001b[0m\u001b[0;34m\u001b[0m\u001b[0m\n\u001b[0;32m----> 5\u001b[0;31m \u001b[0mres\u001b[0m \u001b[0;34m=\u001b[0m \u001b[0mTrainBDT\u001b[0m\u001b[0;34m(\u001b[0m\u001b[0mtrain_input\u001b[0m\u001b[0;34m,\u001b[0m \u001b[0mtrain_y\u001b[0m\u001b[0;34m,\u001b[0m \u001b[0mval_input\u001b[0m\u001b[0;34m,\u001b[0m \u001b[0mval_y\u001b[0m\u001b[0;34m)\u001b[0m\u001b[0;34m\u001b[0m\u001b[0m\n\u001b[0m\u001b[1;32m      6\u001b[0m \u001b[0md_fpr\u001b[0m\u001b[0;34m[\u001b[0m\u001b[0;34m\"orig\"\u001b[0m\u001b[0;34m]\u001b[0m\u001b[0;34m=\u001b[0m \u001b[0mres\u001b[0m\u001b[0;34m[\u001b[0m\u001b[0;36m0\u001b[0m\u001b[0;34m]\u001b[0m\u001b[0;34m;\u001b[0m \u001b[0md_tpr\u001b[0m\u001b[0;34m[\u001b[0m\u001b[0;34m\"orig\"\u001b[0m\u001b[0;34m]\u001b[0m\u001b[0;34m=\u001b[0m \u001b[0mres\u001b[0m\u001b[0;34m[\u001b[0m\u001b[0;36m1\u001b[0m\u001b[0;34m]\u001b[0m\u001b[0;34m;\u001b[0m \u001b[0md_roc_auc\u001b[0m\u001b[0;34m[\u001b[0m\u001b[0;34m\"orig\"\u001b[0m\u001b[0;34m]\u001b[0m\u001b[0;34m=\u001b[0m \u001b[0mres\u001b[0m\u001b[0;34m[\u001b[0m\u001b[0;36m2\u001b[0m\u001b[0;34m]\u001b[0m\u001b[0;34m;\u001b[0m\u001b[0;34m\u001b[0m\u001b[0m\n\u001b[1;32m      7\u001b[0m \u001b[0;34m\u001b[0m\u001b[0m\n",
      "\u001b[0;32m<ipython-input-7-3487e8631670>\u001b[0m in \u001b[0;36mTrainBDT\u001b[0;34m(Atrain_input, Atrain_y, Aval_input, Ay_val)\u001b[0m\n\u001b[1;32m      7\u001b[0m \u001b[0;34m\u001b[0m\u001b[0m\n\u001b[1;32m      8\u001b[0m     \u001b[0;32mif\u001b[0m \u001b[0mONLY_ONE_PID\u001b[0m\u001b[0;34m:\u001b[0m\u001b[0;34m\u001b[0m\u001b[0m\n\u001b[0;32m----> 9\u001b[0;31m         \u001b[0mclf\u001b[0m\u001b[0;34m.\u001b[0m\u001b[0mfit\u001b[0m\u001b[0;34m(\u001b[0m\u001b[0mAtrain_input\u001b[0m\u001b[0;34m,\u001b[0m \u001b[0mAtrain_y\u001b[0m\u001b[0;34m[\u001b[0m\u001b[0;34m:\u001b[0m\u001b[0;34m,\u001b[0m\u001b[0mpid_to_train\u001b[0m\u001b[0;34m]\u001b[0m\u001b[0;34m)\u001b[0m\u001b[0;34m\u001b[0m\u001b[0m\n\u001b[0m\u001b[1;32m     10\u001b[0m         \u001b[0mn_classes\u001b[0m \u001b[0;34m=\u001b[0m \u001b[0;36m1\u001b[0m\u001b[0;34m\u001b[0m\u001b[0m\n\u001b[1;32m     11\u001b[0m     \u001b[0;32melse\u001b[0m\u001b[0;34m:\u001b[0m\u001b[0;34m\u001b[0m\u001b[0m\n",
      "\u001b[0;31mIndexError\u001b[0m: only integers, slices (`:`), ellipsis (`...`), numpy.newaxis (`None`) and integer or boolean arrays are valid indices"
     ]
    }
   ],
   "source": [
    "\n",
    "\n",
    "\n",
    "d_fpr, d_tpr, d_roc_auc = OrderedDict(), OrderedDict(), OrderedDict()\n",
    "res = TrainBDT(train_input, train_y, val_input, val_y)\n",
    "d_fpr[\"orig\"]= res[0]; d_tpr[\"orig\"]= res[1]; d_roc_auc[\"orig\"]= res[2];\n",
    "\n",
    "\n",
    "l_encoding_dim = [1,3,5,8,11,14,18]\n",
    "l_encoding_dim = [1,5,8,18]\n",
    "if \"_weirddim\" in TYPE: l_encoding_dim = [1,5,8,18]\n",
    "else: l_encoding_dim = [1,3,6,9,18]\n",
    "\n",
    "#for encoding_dim in all_decoded_dict:\n",
    "for encoding_dim in l_encoding_dim:\n",
    "    res = TrainBDT(train_decoded_dict[encoding_dim], train_y, val_decoded_dict[encoding_dim], val_y)\n",
    "    d_fpr[encoding_dim]= res[0]; d_tpr[encoding_dim]= res[1]; d_roc_auc[encoding_dim]= res[2];\n",
    "\n"
   ]
  },
  {
   "cell_type": "code",
   "execution_count": null,
   "metadata": {
    "collapsed": true
   },
   "outputs": [],
   "source": [
    "title = \"ROC electron 10% ECAL RICH Test Sample\""
   ]
  },
  {
   "cell_type": "code",
   "execution_count": null,
   "metadata": {},
   "outputs": [],
   "source": [
    "PlotROC(d_fpr, d_tpr, d_roc_auc, i_class = 0, title=\"ROC part c S0 S1 S3 Test Sample\")\n",
    "PlotROC1(d_fpr, d_tpr, d_roc_auc, i_class = 0, title=\"ROC part c S0 S1 S3 Test Sample\")\n",
    "PlotROC2(d_fpr, d_tpr, d_roc_auc, i_class = 0, title=\"ROC part c S0 S1 S3 Test Sample\")\n",
    "PlotROC3(d_fpr, d_tpr, d_roc_auc, i_class = 0, title=\"ROC part c S0 S1 S3 Test Sample\")\n",
    "    "
   ]
  },
  {
   "cell_type": "code",
   "execution_count": null,
   "metadata": {
    "collapsed": true
   },
   "outputs": [],
   "source": []
  },
  {
   "cell_type": "code",
   "execution_count": null,
   "metadata": {
    "collapsed": true
   },
   "outputs": [],
   "source": []
  },
  {
   "cell_type": "code",
   "execution_count": null,
   "metadata": {
    "collapsed": true
   },
   "outputs": [],
   "source": []
  },
  {
   "cell_type": "code",
   "execution_count": null,
   "metadata": {
    "collapsed": true
   },
   "outputs": [],
   "source": []
  },
  {
   "cell_type": "code",
   "execution_count": null,
   "metadata": {
    "collapsed": true
   },
   "outputs": [],
   "source": []
  }
 ],
 "metadata": {
  "kernelspec": {
   "display_name": "Python 2",
   "language": "python",
   "name": "python2"
  },
  "language_info": {
   "codemirror_mode": {
    "name": "ipython",
    "version": 2
   },
   "file_extension": ".py",
   "mimetype": "text/x-python",
   "name": "python",
   "nbconvert_exporter": "python",
   "pygments_lexer": "ipython2",
   "version": "2.7.14"
  }
 },
 "nbformat": 4,
 "nbformat_minor": 2
}
